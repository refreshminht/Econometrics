{
 "cells": [
  {
   "cell_type": "markdown",
   "id": "65bc2060",
   "metadata": {},
   "source": [
    "# Assignment 5"
   ]
  },
  {
   "cell_type": "code",
   "execution_count": 2,
   "id": "4e4c2cee",
   "metadata": {},
   "outputs": [],
   "source": [
    "# Script name: Assignment 5\n",
    "# Purpose of script: Introduction to Multiple Regression Analysis and demonstrate your understanding of the mechanics.\n",
    "# Author: Minh-Thy Tyler\n",
    "# Date Created: \n",
    "# 09/30/2022\n",
    "# Notes: N/A\n",
    "# ---------------------------\n",
    "\n",
    "# Packages\n",
    "import wooldridge as woo\n",
    "import numpy as np \n",
    "import pandas as pd\n",
    "import statsmodels.formula.api as smf\n",
    "import os\n",
    "# Set up working directory\n",
    "directory_path = '/Users/minh-thytyler/Desktop/2022-2023/ECON 320/HW' # use / instead of \\ or use \\ but insert r before (for instance: r'C:\\your-directory-path')\n",
    "os.chdir(directory_path)"
   ]
  },
  {
   "cell_type": "markdown",
   "id": "72214bed",
   "metadata": {},
   "source": [
    "## Part I"
   ]
  },
  {
   "cell_type": "markdown",
   "id": "a2fe4d4f",
   "metadata": {},
   "source": [
    "**Using all of the previous up to this point, how close is your coefficient to the population value? Is it the same or different? Why or why not, do you think?**"
   ]
  },
  {
   "cell_type": "markdown",
   "id": "1c4e35a4",
   "metadata": {},
   "source": [
    "The coefficients are very close to the population value (all within a .05 margin of error) when we calculated the OLS sum and variance ways. The reason why my sample coefficients (sample b0=8.96 and b1=8.000)were close to the population value was because we took a large random sample (n=1000) from the population which would give us good beta estimators. A larger sample would better estimate the population and give us a more accurate beta estimator than a smaller sample. As sample size increases, the more accurate the coefficients are."
   ]
  },
  {
   "cell_type": "markdown",
   "id": "27e920d2",
   "metadata": {},
   "source": [
    "## Part II"
   ]
  },
  {
   "cell_type": "code",
   "execution_count": 4,
   "id": "fc7ebdad",
   "metadata": {},
   "outputs": [
    {
     "name": "stdout",
     "output_type": "stream",
     "text": [
      "            y         x1        x2         u\n",
      "0   60.108906   7.251365 -3.920379  0.938747\n",
      "1   94.948370  10.071606  3.001042 -0.626558\n",
      "2   79.309141   9.278553 -1.876825 -0.165628\n",
      "3   76.982313   8.445753  0.063148  0.289993\n",
      "4  107.448499  12.783474 -2.211435  0.603579\n",
      "                    y              x1              x2               u\n",
      "count  1000000.000000  1000000.000000  1000000.000000  1000000.000000\n",
      "mean        90.991411        9.998426        1.002822       -0.001645\n",
      "std         23.365118        2.831831        2.832203        1.001314\n",
      "min        -25.564294       -3.936529      -12.446616       -4.829518\n",
      "25%         75.228243        8.089034       -0.908924       -0.677874\n",
      "50%         90.967606        9.995395        1.002772       -0.001898\n",
      "75%        106.730188       11.907383        2.913155        0.674147\n",
      "max        206.568811       24.069874       14.150682        5.224590\n"
     ]
    }
   ],
   "source": [
    "#Perform a data generating process of y = B0 + B1 * x1 + B2*x2 + u\n",
    "birthday = '08182001'\n",
    "rng = np.random.RandomState(int(birthday))\n",
    "\n",
    "beta0=9\n",
    "beta1=8\n",
    "beta2=2\n",
    "\n",
    "#scale stands for std\n",
    "u = rng.normal(loc=0,scale=1**.5,size=1000000)\n",
    "x1 = rng.normal(loc=10,scale=8**.5,size=1000000)\n",
    "x2 = rng.normal(loc=1, scale = 8**.5, size=1000000)\n",
    "y = beta0 + beta1 * x1 + beta2 * x2 + u\n",
    "\n",
    "\n",
    "#data variable is in a data frame\n",
    "\n",
    "popdata_reg = pd.DataFrame({'y' : y, 'x1' : x1, 'x2': x2, 'u':u })\n",
    "print(popdata_reg.head())\n",
    "print(popdata_reg.describe())"
   ]
  }
 ],
 "metadata": {
  "kernelspec": {
   "display_name": "Python 3 (ipykernel)",
   "language": "python",
   "name": "python3"
  },
  "language_info": {
   "codemirror_mode": {
    "name": "ipython",
    "version": 3
   },
   "file_extension": ".py",
   "mimetype": "text/x-python",
   "name": "python",
   "nbconvert_exporter": "python",
   "pygments_lexer": "ipython3",
   "version": "3.9.12"
  }
 },
 "nbformat": 4,
 "nbformat_minor": 5
}
