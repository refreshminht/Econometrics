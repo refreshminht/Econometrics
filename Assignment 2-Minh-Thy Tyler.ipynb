{
 "cells": [
  {
   "cell_type": "markdown",
   "id": "c3ebb1b0",
   "metadata": {},
   "source": [
    "# Assignment 2"
   ]
  },
  {
   "cell_type": "code",
   "execution_count": 7,
   "id": "547e10be",
   "metadata": {},
   "outputs": [],
   "source": [
    "# Script name: Assignment 2\n",
    "# Purpose of script:  Introduction to the Simple Regression model and derivation from a research question to a Simple Regression Model.\n",
    "# Author: Minh-Thy Tyler\n",
    "# Date Created: 08/31/2022\n",
    "# Notes: \n",
    "# ---------------------------\n",
    "#Packages\n",
    "import os\n",
    "import numpy as np\n",
    "import matplotlib.pyplot as plt\n",
    "import seaborn as sns\n",
    "import pandas as pd\n",
    "\n",
    "directory_path = '/Users/minh-thytyler/Desktop/2022-2023/ECON 320/HW/2' # use / instead of \\ or use \\ but insert r before (for instance: r'C:\\your-directory-path')\n",
    "os.chdir(directory_path)\n"
   ]
  },
  {
   "cell_type": "markdown",
   "id": "34085141",
   "metadata": {},
   "source": [
    "**Part I**"
   ]
  },
  {
   "cell_type": "code",
   "execution_count": 8,
   "id": "2fe78418",
   "metadata": {},
   "outputs": [
    {
     "name": "stdout",
     "output_type": "stream",
     "text": [
      "           x         u          y\n",
      "0  10.938747 -0.971789  95.538188\n",
      "1   9.373442  0.025316  84.012853\n",
      "2   9.834372 -0.255070  87.419905\n",
      "3  10.289993 -0.549509  90.770432\n",
      "4  10.603579  0.984107  94.812735\n",
      "                    x               u               y\n",
      "count  1000000.000000  1000000.000000  1000000.000000\n",
      "mean         9.998355       -0.000556       88.986286\n",
      "std          1.001314        1.001204        8.071350\n",
      "min          5.170482       -4.927307       49.954255\n",
      "25%          9.322126       -0.675628       83.540429\n",
      "50%          9.998102       -0.001628       88.988615\n",
      "75%         10.674147        0.674362       94.434029\n",
      "max         15.224590        4.974452      130.354158\n"
     ]
    }
   ],
   "source": [
    "#Perform a data generating process of y = B0 + B1 * x + u\n",
    "birthday = '08182001'\n",
    "rng = np.random.RandomState(int(birthday))\n",
    "\n",
    "beta0=9\n",
    "beta1=8\n",
    "\n",
    "x = rng.normal(loc=10,scale=1,size=1000000)\n",
    "u = rng.normal(loc=0,scale=1,size=1000000)\n",
    "y = beta0 +beta1*x +u\n",
    "\n",
    "#data variable is in a data frame\n",
    "\n",
    "data ={\"x\": x, \"u\":u,\"y\":y}\n",
    "data = pd.DataFrame(data)\n",
    "print(data.head())\n",
    "print(data.describe())"
   ]
  },
  {
   "cell_type": "markdown",
   "id": "74527e4d",
   "metadata": {},
   "source": [
    "**Part II**"
   ]
  },
  {
   "cell_type": "markdown",
   "id": "a0d22604",
   "metadata": {},
   "source": [
    "*Upon visual inspection, which random variable looks like it would have a greater variance: X or J? Why?*\n",
    "\n",
    "It looks like K would have a greater variance. Variance is defined as the average squared deviations from the mean. It reflects the variability in a distribution. The random variable K looks like it has more variabilitity in its observed values and has a greater range of numbers. K ranges from 4 to 19 and has many different inconsistant numbers. Wheras J ranges from 6 to 10 and its observed values hold greater consistentcy. All around, J has more values that are closer to its mean, and K does not have as many values that seem closer to its mean. Because of this, K looks like it would have greater variance. "
   ]
  },
  {
   "cell_type": "markdown",
   "id": "c161b7cd",
   "metadata": {},
   "source": [
    "*a) Find the SAMPLE variance for x and y*"
   ]
  },
  {
   "cell_type": "code",
   "execution_count": 16,
   "id": "3aee1c6e",
   "metadata": {},
   "outputs": [
    {
     "name": "stdout",
     "output_type": "stream",
     "text": [
      "varx 9.166666666666666\n",
      "vary: 22.233333333333334\n"
     ]
    }
   ],
   "source": [
    "x = np.array([1,2,3,4,5,6,7,8,9,10])\n",
    "y = np.array([5,7,8,8,10,12,11,15,19,18])\n",
    "j = np.array([7,7,7,8,8,7,8,8,7,6,9,9,8,9,7,8,9,6,10,10,9])\n",
    "k = np.array([18,16,15,16,10,11,11,9,11,19,8,8,6,4,9,10,7,15,10,7,5])\n",
    "\n",
    "#finding means\n",
    "meanx = x.mean()\n",
    "meany = y.mean()\n",
    "\n",
    "#Using sample variance formula\n",
    "varx = ((x - meanx)**2).sum()/(len(x)-1)\n",
    "vary = ((y - meany)**2).sum()/(len(y)-1)\n",
    "\n",
    "print(f\"varx: {varx}\")\n",
    "print(f\"vary: {vary}\")"
   ]
  },
  {
   "cell_type": "markdown",
   "id": "f2b42973",
   "metadata": {},
   "source": [
    "*b) Find SAMPLE cov(X,Y).* "
   ]
  },
  {
   "cell_type": "code",
   "execution_count": 20,
   "id": "0e404ed3",
   "metadata": {},
   "outputs": [
    {
     "name": "stdout",
     "output_type": "stream",
     "text": [
      "covxy: 13.722222222222221\n"
     ]
    }
   ],
   "source": [
    "covxy = ((x-meanx)*(y-meany)).sum()/(len(x)-1)\n",
    "print(f\"covxy: {covxy}\")"
   ]
  },
  {
   "cell_type": "markdown",
   "id": "6306806e",
   "metadata": {},
   "source": [
    "*c) Find the sample var(J), sample var(K).*"
   ]
  },
  {
   "cell_type": "code",
   "execution_count": 22,
   "id": "83112d03",
   "metadata": {},
   "outputs": [
    {
     "name": "stdout",
     "output_type": "stream",
     "text": [
      "varj: 1.3476190476190475\n",
      "vark: 18.214285714285715\n"
     ]
    }
   ],
   "source": [
    "#finding means\n",
    "meanj = j.mean()\n",
    "meank = k.mean()\n",
    "\n",
    "#Using sample variance formula\n",
    "varj = ((j - meanj)**2).sum()/(len(j)-1)\n",
    "vark = ((k - meank)**2).sum()/(len(k)-1)\n",
    "\n",
    "print(f\"varj: {varj}\")\n",
    "print(f\"vark: {vark}\")"
   ]
  },
  {
   "cell_type": "markdown",
   "id": "15705086",
   "metadata": {},
   "source": [
    "*d) Find sample cov(J,K).*"
   ]
  },
  {
   "cell_type": "code",
   "execution_count": 23,
   "id": "5ddacb44",
   "metadata": {},
   "outputs": [
    {
     "name": "stdout",
     "output_type": "stream",
     "text": [
      "covjk: -3.5642857142857154\n"
     ]
    }
   ],
   "source": [
    "covjk = ((j-meanj)*(k-meank)).sum()/(len(j)-1)\n",
    "print(f\"covjk: {covjk}\")"
   ]
  },
  {
   "cell_type": "markdown",
   "id": "9d2195b9",
   "metadata": {},
   "source": [
    "*Present scatterplots of {X,Y} and {J,K}. Y and K should be on the vertical axes. Do not place any trend lines. Be sure to label axes.*"
   ]
  },
  {
   "cell_type": "code",
   "execution_count": 32,
   "id": "2393ef2a",
   "metadata": {},
   "outputs": [
    {
     "data": {
      "text/plain": [
       "Text(0, 0.5, 'y')"
      ]
     },
     "execution_count": 32,
     "metadata": {},
     "output_type": "execute_result"
    },
    {
     "data": {
      "image/png": "[encoded data removed]",
      "text/plain": [
       "<Figure size 432x288 with 1 Axes>"
      ]
     },
     "metadata": {
      "needs_background": "light"
     },
     "output_type": "display_data"
    }
   ],
   "source": [
    "sns.scatterplot(x= x, y=y)\n",
    "plt.title(\"Scatterplot for X,Y\")\n",
    "plt.xlabel('x')\n",
    "plt.ylabel('y')"
   ]
  },
  {
   "cell_type": "code",
   "execution_count": 33,
   "id": "0683a3c4",
   "metadata": {},
   "outputs": [
    {
     "data": {
      "text/plain": [
       "Text(0, 0.5, 'k')"
      ]
     },
     "execution_count": 33,
     "metadata": {},
     "output_type": "execute_result"
    },
    {
     "data": {
      "image/png": "[encoded data removed]",
      "text/plain": [
       "<Figure size 432x288 with 1 Axes>"
      ]
     },
     "metadata": {
      "needs_background": "light"
     },
     "output_type": "display_data"
    }
   ],
   "source": [
    "sns.scatterplot(x= j, y=k)\n",
    "plt.title('Scatterplot for J,K')\n",
    "plt.xlabel('j')\n",
    "plt.ylabel('k')"
   ]
  }
 ],
 "metadata": {
  "kernelspec": {
   "display_name": "Python 3 (ipykernel)",
   "language": "python",
   "name": "python3"
  },
  "language_info": {
   "codemirror_mode": {
    "name": "ipython",
    "version": 3
   },
   "file_extension": ".py",
   "mimetype": "text/x-python",
   "name": "python",
   "nbconvert_exporter": "python",
   "pygments_lexer": "ipython3",
   "version": "3.9.12"
  }
 },
 "nbformat": 4,
 "nbformat_minor": 5
}
