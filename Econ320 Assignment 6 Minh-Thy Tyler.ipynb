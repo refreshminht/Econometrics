{
 "cells": [
  {
   "cell_type": "markdown",
   "id": "0fab097c",
   "metadata": {},
   "source": [
    "# Assignment 6"
   ]
  },
  {
   "cell_type": "code",
   "execution_count": 7,
   "id": "f5d45f63",
   "metadata": {},
   "outputs": [],
   "source": [
    "# Script name: Assignment 6\n",
    "# Purpose of script: Report the partial effects in a linear regression model\n",
    "# Author: Minh-Thy Tyler\n",
    "# Date Created: \n",
    "# 10/05/2022\n",
    "# Notes: N/A\n",
    "# ---------------------------\n",
    "\n",
    "# Packages\n",
    "import wooldridge as woo\n",
    "import numpy as np \n",
    "import pandas as pd\n",
    "import statsmodels.formula.api as smf\n",
    "import os\n",
    "# Set up working directory\n",
    "directory_path = '/Users/minh-thytyler/Desktop/2022-2023/ECON 320/HW' # use / instead of \\ or use \\ but insert r before (for instance: r'C:\\your-directory-path')\n",
    "os.chdir(directory_path)"
   ]
  },
  {
   "cell_type": "markdown",
   "id": "24eeccf5",
   "metadata": {},
   "source": [
    "## Part 1"
   ]
  },
  {
   "cell_type": "code",
   "execution_count": 8,
   "id": "a38ede93",
   "metadata": {},
   "outputs": [
    {
     "name": "stdout",
     "output_type": "stream",
     "text": [
      "            y         x1        x2         u\n",
      "0   60.108906   7.251365 -3.920379  0.938747\n",
      "1   94.948370  10.071606  3.001042 -0.626558\n",
      "2   79.309141   9.278553 -1.876825 -0.165628\n",
      "3   76.982313   8.445753  0.063148  0.289993\n",
      "4  107.448499  12.783474 -2.211435  0.603579\n",
      "                    y              x1              x2               u\n",
      "count  1000000.000000  1000000.000000  1000000.000000  1000000.000000\n",
      "mean        90.991411        9.998426        1.002822       -0.001645\n",
      "std         23.365118        2.831831        2.832203        1.001314\n",
      "min        -25.564294       -3.936529      -12.446616       -4.829518\n",
      "25%         75.228243        8.089034       -0.908924       -0.677874\n",
      "50%         90.967606        9.995395        1.002772       -0.001898\n",
      "75%        106.730188       11.907383        2.913155        0.674147\n",
      "max        206.568811       24.069874       14.150682        5.224590\n"
     ]
    }
   ],
   "source": [
    "#Perform a data generating process of y = B0 + B1 * x1 + B2*x2 + u\n",
    "birthday = '08182001'\n",
    "rng = np.random.RandomState(int(birthday))\n",
    "\n",
    "beta0=9\n",
    "beta1=8\n",
    "beta2=2\n",
    "\n",
    "#scale stands for std\n",
    "u = rng.normal(loc=0,scale=1**.5,size=1000000)\n",
    "x1 = rng.normal(loc=10,scale=8**.5,size=1000000)\n",
    "x2 = rng.normal(loc=1, scale = 8**.5, size=1000000)\n",
    "y = beta0 + beta1 * x1 + beta2 * x2 + u\n",
    "\n",
    "\n",
    "#data variable is in a data frame\n",
    "\n",
    "popdata_reg = pd.DataFrame({'y' : y, 'x1' : x1, 'x2': x2, 'u':u })\n",
    "print(popdata_reg.head())\n",
    "print(popdata_reg.describe())"
   ]
  },
  {
   "cell_type": "code",
   "execution_count": 9,
   "id": "6d2c9b1b",
   "metadata": {},
   "outputs": [],
   "source": [
    "# Get a sample of 1000 observations\n",
    "reg_df = pd.DataFrame(popdata_reg)\n",
    "sample_df = reg_df.sample(n = 1000, random_state = int(birthday))"
   ]
  },
  {
   "cell_type": "markdown",
   "id": "8ac30307",
   "metadata": {},
   "source": [
    "### Getting the estimators"
   ]
  },
  {
   "cell_type": "code",
   "execution_count": 10,
   "id": "d4e3c7e0",
   "metadata": {},
   "outputs": [
    {
     "data": {
      "text/html": [
       "<table class=\"simpletable\">\n",
       "<caption>OLS Regression Results</caption>\n",
       "<tr>\n",
       "  <th>Dep. Variable:</th>            <td>y</td>        <th>  R-squared:         </th> <td>   0.998</td> \n",
       "</tr>\n",
       "<tr>\n",
       "  <th>Model:</th>                   <td>OLS</td>       <th>  Adj. R-squared:    </th> <td>   0.998</td> \n",
       "</tr>\n",
       "<tr>\n",
       "  <th>Method:</th>             <td>Least Squares</td>  <th>  F-statistic:       </th> <td>2.910e+05</td>\n",
       "</tr>\n",
       "<tr>\n",
       "  <th>Date:</th>             <td>Tue, 18 Oct 2022</td> <th>  Prob (F-statistic):</th>  <td>  0.00</td>  \n",
       "</tr>\n",
       "<tr>\n",
       "  <th>Time:</th>                 <td>11:49:17</td>     <th>  Log-Likelihood:    </th> <td> -1395.0</td> \n",
       "</tr>\n",
       "<tr>\n",
       "  <th>No. Observations:</th>      <td>  1000</td>      <th>  AIC:               </th> <td>   2796.</td> \n",
       "</tr>\n",
       "<tr>\n",
       "  <th>Df Residuals:</th>          <td>   997</td>      <th>  BIC:               </th> <td>   2811.</td> \n",
       "</tr>\n",
       "<tr>\n",
       "  <th>Df Model:</th>              <td>     2</td>      <th>                     </th>     <td> </td>    \n",
       "</tr>\n",
       "<tr>\n",
       "  <th>Covariance Type:</th>      <td>nonrobust</td>    <th>                     </th>     <td> </td>    \n",
       "</tr>\n",
       "</table>\n",
       "<table class=\"simpletable\">\n",
       "<tr>\n",
       "      <td></td>         <th>coef</th>     <th>std err</th>      <th>t</th>      <th>P>|t|</th>  <th>[0.025</th>    <th>0.975]</th>  \n",
       "</tr>\n",
       "<tr>\n",
       "  <th>Intercept</th> <td>    9.0726</td> <td>    0.113</td> <td>   80.468</td> <td> 0.000</td> <td>    8.851</td> <td>    9.294</td>\n",
       "</tr>\n",
       "<tr>\n",
       "  <th>x1</th>        <td>    8.0001</td> <td>    0.011</td> <td>  742.367</td> <td> 0.000</td> <td>    7.979</td> <td>    8.021</td>\n",
       "</tr>\n",
       "<tr>\n",
       "  <th>x2</th>        <td>    1.9921</td> <td>    0.011</td> <td>  186.298</td> <td> 0.000</td> <td>    1.971</td> <td>    2.013</td>\n",
       "</tr>\n",
       "</table>\n",
       "<table class=\"simpletable\">\n",
       "<tr>\n",
       "  <th>Omnibus:</th>       <td> 1.062</td> <th>  Durbin-Watson:     </th> <td>   1.993</td>\n",
       "</tr>\n",
       "<tr>\n",
       "  <th>Prob(Omnibus):</th> <td> 0.588</td> <th>  Jarque-Bera (JB):  </th> <td>   1.096</td>\n",
       "</tr>\n",
       "<tr>\n",
       "  <th>Skew:</th>          <td>-0.020</td> <th>  Prob(JB):          </th> <td>   0.578</td>\n",
       "</tr>\n",
       "<tr>\n",
       "  <th>Kurtosis:</th>      <td> 2.843</td> <th>  Cond. No.          </th> <td>    38.4</td>\n",
       "</tr>\n",
       "</table><br/><br/>Notes:<br/>[1] Standard Errors assume that the covariance matrix of the errors is correctly specified."
      ],
      "text/plain": [
       "<class 'statsmodels.iolib.summary.Summary'>\n",
       "\"\"\"\n",
       "                            OLS Regression Results                            \n",
       "==============================================================================\n",
       "Dep. Variable:                      y   R-squared:                       0.998\n",
       "Model:                            OLS   Adj. R-squared:                  0.998\n",
       "Method:                 Least Squares   F-statistic:                 2.910e+05\n",
       "Date:                Tue, 18 Oct 2022   Prob (F-statistic):               0.00\n",
       "Time:                        11:49:17   Log-Likelihood:                -1395.0\n",
       "No. Observations:                1000   AIC:                             2796.\n",
       "Df Residuals:                     997   BIC:                             2811.\n",
       "Df Model:                           2                                         \n",
       "Covariance Type:            nonrobust                                         \n",
       "==============================================================================\n",
       "                 coef    std err          t      P>|t|      [0.025      0.975]\n",
       "------------------------------------------------------------------------------\n",
       "Intercept      9.0726      0.113     80.468      0.000       8.851       9.294\n",
       "x1             8.0001      0.011    742.367      0.000       7.979       8.021\n",
       "x2             1.9921      0.011    186.298      0.000       1.971       2.013\n",
       "==============================================================================\n",
       "Omnibus:                        1.062   Durbin-Watson:                   1.993\n",
       "Prob(Omnibus):                  0.588   Jarque-Bera (JB):                1.096\n",
       "Skew:                          -0.020   Prob(JB):                        0.578\n",
       "Kurtosis:                       2.843   Cond. No.                         38.4\n",
       "==============================================================================\n",
       "\n",
       "Notes:\n",
       "[1] Standard Errors assume that the covariance matrix of the errors is correctly specified.\n",
       "\"\"\""
      ]
     },
     "execution_count": 10,
     "metadata": {},
     "output_type": "execute_result"
    }
   ],
   "source": [
    "#Estimating a linear model\n",
    "mod = smf.ols(formula='y ~ x1 + x2', data=sample_df)\n",
    "res = mod.fit()\n",
    "res.summary()"
   ]
  },
  {
   "cell_type": "markdown",
   "id": "63b072a2",
   "metadata": {},
   "source": [
    "**Are the estimates close or different?**\n",
    "\n",
    "**Answer:**\n",
    "\n",
    "\n",
    "The estimates are close to the population value. For my sample of 1000, I got an intercept of 9.07 (actual is 9), the beta 1 estimator is 8.0001 (actual is 8), and the beta 2 estimator is 1.9921 (actual is 2). The estimates is close to the population because we took a relatively large sample of n=1000, meaning that it will have a closer sample estimate of the actual. As we increase the sample size, the closer the estimates are to the actual in the population. \n",
    "\n",
    "Multiple regression is a braoder class of regressions than simple linear regression because it encompasses linear and nonlinear regressions with mulitple explanatory variables. Because of this, multiple linear regression captures multiple independent variables that influence the dependent variable and will more accurately capture the dependent variable y. \n",
    "\n"
   ]
  },
  {
   "cell_type": "markdown",
   "id": "bda0eca5",
   "metadata": {},
   "source": [
    "### Partialling  out $\\beta_1$ <a class = anchor id = anchor4></a>"
   ]
  },
  {
   "cell_type": "code",
   "execution_count": 22,
   "id": "fd1e37f2",
   "metadata": {},
   "outputs": [
    {
     "data": {
      "text/html": [
       "<div>\n",
       "<style scoped>\n",
       "    .dataframe tbody tr th:only-of-type {\n",
       "        vertical-align: middle;\n",
       "    }\n",
       "\n",
       "    .dataframe tbody tr th {\n",
       "        vertical-align: top;\n",
       "    }\n",
       "\n",
       "    .dataframe thead th {\n",
       "        text-align: right;\n",
       "    }\n",
       "</style>\n",
       "<table border=\"1\" class=\"dataframe\">\n",
       "  <thead>\n",
       "    <tr style=\"text-align: right;\">\n",
       "      <th></th>\n",
       "      <th>y</th>\n",
       "      <th>x1</th>\n",
       "      <th>x2</th>\n",
       "      <th>u</th>\n",
       "      <th>x1_hat</th>\n",
       "      <th>x1_resid</th>\n",
       "      <th>x2_hat</th>\n",
       "      <th>x2_resid</th>\n",
       "    </tr>\n",
       "  </thead>\n",
       "  <tbody>\n",
       "    <tr>\n",
       "      <th>953204</th>\n",
       "      <td>157.135043</td>\n",
       "      <td>17.173613</td>\n",
       "      <td>4.538618</td>\n",
       "      <td>1.668905</td>\n",
       "      <td>9.957148</td>\n",
       "      <td>7.216464</td>\n",
       "      <td>148.651829</td>\n",
       "      <td>8.483214</td>\n",
       "    </tr>\n",
       "    <tr>\n",
       "      <th>667466</th>\n",
       "      <td>82.145132</td>\n",
       "      <td>10.425222</td>\n",
       "      <td>-5.154320</td>\n",
       "      <td>0.051997</td>\n",
       "      <td>10.097359</td>\n",
       "      <td>0.327863</td>\n",
       "      <td>93.542253</td>\n",
       "      <td>-11.397121</td>\n",
       "    </tr>\n",
       "    <tr>\n",
       "      <th>533096</th>\n",
       "      <td>91.544631</td>\n",
       "      <td>10.303541</td>\n",
       "      <td>-0.474004</td>\n",
       "      <td>1.064308</td>\n",
       "      <td>10.029657</td>\n",
       "      <td>0.273885</td>\n",
       "      <td>93.110417</td>\n",
       "      <td>-1.565786</td>\n",
       "    </tr>\n",
       "    <tr>\n",
       "      <th>243481</th>\n",
       "      <td>86.487759</td>\n",
       "      <td>8.763398</td>\n",
       "      <td>4.398199</td>\n",
       "      <td>-1.415825</td>\n",
       "      <td>9.959180</td>\n",
       "      <td>-1.195781</td>\n",
       "      <td>81.352927</td>\n",
       "      <td>5.134832</td>\n",
       "    </tr>\n",
       "    <tr>\n",
       "      <th>848331</th>\n",
       "      <td>90.371576</td>\n",
       "      <td>11.343264</td>\n",
       "      <td>-4.134138</td>\n",
       "      <td>-1.106260</td>\n",
       "      <td>10.082601</td>\n",
       "      <td>1.260663</td>\n",
       "      <td>101.004751</td>\n",
       "      <td>-10.633175</td>\n",
       "    </tr>\n",
       "  </tbody>\n",
       "</table>\n",
       "</div>"
      ],
      "text/plain": [
       "                 y         x1        x2         u     x1_hat  x1_resid  \\\n",
       "953204  157.135043  17.173613  4.538618  1.668905   9.957148  7.216464   \n",
       "667466   82.145132  10.425222 -5.154320  0.051997  10.097359  0.327863   \n",
       "533096   91.544631  10.303541 -0.474004  1.064308  10.029657  0.273885   \n",
       "243481   86.487759   8.763398  4.398199 -1.415825   9.959180 -1.195781   \n",
       "848331   90.371576  11.343264 -4.134138 -1.106260  10.082601  1.260663   \n",
       "\n",
       "            x2_hat   x2_resid  \n",
       "953204  148.651829   8.483214  \n",
       "667466   93.542253 -11.397121  \n",
       "533096   93.110417  -1.565786  \n",
       "243481   81.352927   5.134832  \n",
       "848331  101.004751 -10.633175  "
      ]
     },
     "execution_count": 22,
     "metadata": {},
     "output_type": "execute_result"
    }
   ],
   "source": [
    "#Partialling out beta1 and expressing x1 as a function of x2\n",
    "mod12 = smf.ols(formula='x1 ~ x2', data=sample_df)\n",
    "res12 = mod12.fit()\n",
    "\n",
    "# Create the variable in df\n",
    "x1x2_beta1 = res12.params[1]\n",
    "x1x2_beta0 = res12.params[0]\n",
    "\n",
    "sample_df['x1_hat'] = res12.predict()\n",
    "#sample_df['x1_hat'] = x1x2_beta0 + x1x2_beta1*sample_df['x2']\n",
    "sample_df['x1_resid'] = sample_df['x1'] - sample_df['x1_hat']\n",
    "sample_df.head()"
   ]
  },
  {
   "cell_type": "code",
   "execution_count": 29,
   "id": "41a04b62",
   "metadata": {},
   "outputs": [
    {
     "data": {
      "text/plain": [
       "Intercept    90.92\n",
       "x1_resid      8.00\n",
       "dtype: float64"
      ]
     },
     "execution_count": 29,
     "metadata": {},
     "output_type": "execute_result"
    }
   ],
   "source": [
    "mody1 = smf.ols(formula = 'y ~ x1_resid', data = sample_df)\n",
    "resy1 = mody1.fit()\n",
    "\n",
    "resy1.params.round(2)"
   ]
  },
  {
   "cell_type": "markdown",
   "id": "e13684b1",
   "metadata": {},
   "source": [
    "**x1_resid: 8.00** the estimate is close to the beta 1 value"
   ]
  },
  {
   "cell_type": "markdown",
   "id": "4eea211b",
   "metadata": {},
   "source": [
    "### Partialling  out $\\beta_2$ <a class = anchor id = anchor6></a>"
   ]
  },
  {
   "cell_type": "code",
   "execution_count": 32,
   "id": "f971f1ed",
   "metadata": {},
   "outputs": [
    {
     "data": {
      "text/html": [
       "<div>\n",
       "<style scoped>\n",
       "    .dataframe tbody tr th:only-of-type {\n",
       "        vertical-align: middle;\n",
       "    }\n",
       "\n",
       "    .dataframe tbody tr th {\n",
       "        vertical-align: top;\n",
       "    }\n",
       "\n",
       "    .dataframe thead th {\n",
       "        text-align: right;\n",
       "    }\n",
       "</style>\n",
       "<table border=\"1\" class=\"dataframe\">\n",
       "  <thead>\n",
       "    <tr style=\"text-align: right;\">\n",
       "      <th></th>\n",
       "      <th>y</th>\n",
       "      <th>x1</th>\n",
       "      <th>x2</th>\n",
       "      <th>u</th>\n",
       "      <th>x1_hat</th>\n",
       "      <th>x1_resid</th>\n",
       "      <th>x2_hat</th>\n",
       "      <th>x2_resid</th>\n",
       "    </tr>\n",
       "  </thead>\n",
       "  <tbody>\n",
       "    <tr>\n",
       "      <th>953204</th>\n",
       "      <td>157.135043</td>\n",
       "      <td>17.173613</td>\n",
       "      <td>4.538618</td>\n",
       "      <td>1.668905</td>\n",
       "      <td>9.957148</td>\n",
       "      <td>7.216464</td>\n",
       "      <td>0.781156</td>\n",
       "      <td>3.757463</td>\n",
       "    </tr>\n",
       "    <tr>\n",
       "      <th>667466</th>\n",
       "      <td>82.145132</td>\n",
       "      <td>10.425222</td>\n",
       "      <td>-5.154320</td>\n",
       "      <td>0.051997</td>\n",
       "      <td>10.097359</td>\n",
       "      <td>0.327863</td>\n",
       "      <td>0.880306</td>\n",
       "      <td>-6.034626</td>\n",
       "    </tr>\n",
       "    <tr>\n",
       "      <th>533096</th>\n",
       "      <td>91.544631</td>\n",
       "      <td>10.303541</td>\n",
       "      <td>-0.474004</td>\n",
       "      <td>1.064308</td>\n",
       "      <td>10.029657</td>\n",
       "      <td>0.273885</td>\n",
       "      <td>0.882094</td>\n",
       "      <td>-1.356098</td>\n",
       "    </tr>\n",
       "    <tr>\n",
       "      <th>243481</th>\n",
       "      <td>86.487759</td>\n",
       "      <td>8.763398</td>\n",
       "      <td>4.398199</td>\n",
       "      <td>-1.415825</td>\n",
       "      <td>9.959180</td>\n",
       "      <td>-1.195781</td>\n",
       "      <td>0.904722</td>\n",
       "      <td>3.493477</td>\n",
       "    </tr>\n",
       "    <tr>\n",
       "      <th>848331</th>\n",
       "      <td>90.371576</td>\n",
       "      <td>11.343264</td>\n",
       "      <td>-4.134138</td>\n",
       "      <td>-1.106260</td>\n",
       "      <td>10.082601</td>\n",
       "      <td>1.260663</td>\n",
       "      <td>0.866818</td>\n",
       "      <td>-5.000955</td>\n",
       "    </tr>\n",
       "  </tbody>\n",
       "</table>\n",
       "</div>"
      ],
      "text/plain": [
       "                 y         x1        x2         u     x1_hat  x1_resid  \\\n",
       "953204  157.135043  17.173613  4.538618  1.668905   9.957148  7.216464   \n",
       "667466   82.145132  10.425222 -5.154320  0.051997  10.097359  0.327863   \n",
       "533096   91.544631  10.303541 -0.474004  1.064308  10.029657  0.273885   \n",
       "243481   86.487759   8.763398  4.398199 -1.415825   9.959180 -1.195781   \n",
       "848331   90.371576  11.343264 -4.134138 -1.106260  10.082601  1.260663   \n",
       "\n",
       "          x2_hat  x2_resid  \n",
       "953204  0.781156  3.757463  \n",
       "667466  0.880306 -6.034626  \n",
       "533096  0.882094 -1.356098  \n",
       "243481  0.904722  3.493477  \n",
       "848331  0.866818 -5.000955  "
      ]
     },
     "execution_count": 32,
     "metadata": {},
     "output_type": "execute_result"
    }
   ],
   "source": [
    "#CHANGE 'x2 ~ x1 to y ~ x1_resid'\n",
    "\n",
    "mod21 = smf.ols(formula='x2 ~ x1', data=sample_df)\n",
    "res21 = mod21.fit()\n",
    "\n",
    "# Create the variable in df\n",
    "x2x1_beta1 = res21.params[1]\n",
    "x2x1_beta0 = res21.params[0]\n",
    "\n",
    "sample_df['x2_hat'] = res21.fittedvalues\n",
    "sample_df['x2_resid'] = res21.resid\n",
    "#sample_df['x2_resid'] = sample_df['x2'] - sample_df['x2_hat']\n",
    "sample_df.head()"
   ]
  },
  {
   "cell_type": "code",
   "execution_count": 33,
   "id": "90e5fd6c",
   "metadata": {},
   "outputs": [
    {
     "data": {
      "text/plain": [
       "Intercept    90.92\n",
       "x2_resid      1.99\n",
       "dtype: float64"
      ]
     },
     "execution_count": 33,
     "metadata": {},
     "output_type": "execute_result"
    }
   ],
   "source": [
    "mody2 = smf.ols(formula = 'y ~ x2_resid', data = sample_df)\n",
    "resy2 = mody2.fit()\n",
    "\n",
    "resy2.params.round(2)"
   ]
  },
  {
   "cell_type": "markdown",
   "id": "280c5538",
   "metadata": {},
   "source": [
    "**x2_resid: 1.99** The estimate is close to the b2 value"
   ]
  },
  {
   "cell_type": "code",
   "execution_count": null,
   "id": "31891a57",
   "metadata": {},
   "outputs": [],
   "source": []
  }
 ],
 "metadata": {
  "kernelspec": {
   "display_name": "Python 3 (ipykernel)",
   "language": "python",
   "name": "python3"
  },
  "language_info": {
   "codemirror_mode": {
    "name": "ipython",
    "version": 3
   },
   "file_extension": ".py",
   "mimetype": "text/x-python",
   "name": "python",
   "nbconvert_exporter": "python",
   "pygments_lexer": "ipython3",
   "version": "3.9.12"
  }
 },
 "nbformat": 4,
 "nbformat_minor": 5
}
