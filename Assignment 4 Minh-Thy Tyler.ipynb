{
 "cells": [
  {
   "cell_type": "code",
   "execution_count": 8,
   "id": "48e0b6ee",
   "metadata": {},
   "outputs": [],
   "source": [
    "# Script name: Assignment 4\n",
    "# Purpose of script: Consider the properties of OLS on any sample of data.\n",
    "# Author: Minh-Thy Tyler\n",
    "# Date Created: \n",
    "# 09/16/2022\n",
    "# Notes: Calculate TSS, ESS and RSS in your sample. \n",
    "# ---------------------------\n",
    "\n",
    "# Import libraries\n",
    "import numpy as np\n",
    "import pandas as pd\n",
    "import matplotlib.pyplot as plt\n",
    "from matplotlib import style\n",
    "import os\n",
    "style.use('seaborn-darkgrid')\n",
    "\n",
    "# Set up working directory\n",
    "directory_path = '/Users/minh-thytyler/Desktop/2022-2023/ECON 320/HW' # use / instead of \\ or use \\ but insert r before (for instance: r'C:\\your-directory-path')\n",
    "os.chdir(directory_path)"
   ]
  },
  {
   "cell_type": "code",
   "execution_count": 9,
   "id": "1c1c81f7",
   "metadata": {},
   "outputs": [
    {
     "data": {
      "text/plain": [
       "7.638133061228957"
      ]
     },
     "execution_count": 9,
     "metadata": {},
     "output_type": "execute_result"
    }
   ],
   "source": [
    "# Set the seed to generate reproducible results\n",
    "birthday = \"08182001\"\n",
    "rng = np.random.RandomState(int(birthday))\n",
    "\n",
    "\n",
    "x = rng.normal(loc=10, scale=1 , size=1000000)\n",
    "# u normal mean 0 std 1 \n",
    "u = rng.normal(loc=0, scale=1 , size=1000000)\n",
    "# You know the actual function that relates x to y and you generate y \n",
    "y = 9 + 8*x +u \n",
    "# Put all this in a dataframe\n",
    "data = {\"x\": x, \"u\": u, \"y\": y}\n",
    "# Put all vectors into a data frame to work with it later, you need that format for the graphs\n",
    "reg_df = pd.DataFrame(data)\n",
    "# Get a sample of 1000 observations\n",
    "sample_df = reg_df.sample(n = 1000, random_state = int(birthday))\n",
    "\n",
    "sample_df[['y', 'x']].cov().iloc[0,1]"
   ]
  },
  {
   "cell_type": "code",
   "execution_count": 10,
   "id": "d229a4f8",
   "metadata": {},
   "outputs": [
    {
     "name": "stdout",
     "output_type": "stream",
     "text": [
      "b0:8.996512931181186\n",
      "b1:8.00069684694702\n"
     ]
    }
   ],
   "source": [
    "covxy= np.cov(sample_df.x, sample_df.y)[1,0]\n",
    "varx= sample_df['x'].var()\n",
    "\n",
    "beta1_sample = covxy/varx\n",
    "beta0_sample = sample_df['y'].mean() - (beta1_sample * sample_df['x'].mean())\n",
    "print(f'b0:{beta0_sample}')\n",
    "print(f'b1:{beta1_sample}')"
   ]
  },
  {
   "cell_type": "markdown",
   "id": "7588bbe8",
   "metadata": {},
   "source": [
    "### Part A\n",
    "Calculate $R^2$, which is ESS/TSS. "
   ]
  },
  {
   "cell_type": "code",
   "execution_count": 28,
   "id": "a9b75ab1",
   "metadata": {},
   "outputs": [],
   "source": [
    "sample_df['y_pred']= beta1_sample * sample_df['x']+ beta0_sample\n",
    "sample_df['residuals'] = sample_df['y'] - sample_df['y_pred']"
   ]
  },
  {
   "cell_type": "code",
   "execution_count": 29,
   "id": "ab90fb16",
   "metadata": {},
   "outputs": [],
   "source": [
    "mean_samplex = sample_df['x'].mean()\n",
    "mean_sampley = sample_df['y_pred'].mean()"
   ]
  },
  {
   "cell_type": "code",
   "execution_count": 30,
   "id": "51c1ab2f",
   "metadata": {},
   "outputs": [
    {
     "name": "stdout",
     "output_type": "stream",
     "text": [
      "9616.835133607588 8587.547196920983 1029.2879366866223 9616.835133607605\n"
     ]
    }
   ],
   "source": [
    "TSS = ((sample_df['y']-mean_sampley)**2).sum()\n",
    "ESS = ((sample_df['y_pred']-mean_sampley)**2).sum()\n",
    "RSS = ((sample_df['y']-sample_df['y_pred'])**2).sum()\n",
    "Rsq = ESS/TSS\n",
    "C_TSS = ESS+RSS\n",
    "print(TSS, ESS, RSS, C_TSS)"
   ]
  },
  {
   "cell_type": "code",
   "execution_count": 31,
   "id": "d762dd85",
   "metadata": {},
   "outputs": [
    {
     "name": "stdout",
     "output_type": "stream",
     "text": [
      "R2:  0.892970200446757\n"
     ]
    }
   ],
   "source": [
    "R2 = ESS/TSS\n",
    "print(\"R2: \",R2)"
   ]
  },
  {
   "cell_type": "markdown",
   "id": "98a5cfb5",
   "metadata": {},
   "source": [
    "### Part B:\n",
    "Show that for any individual observation, $(y_i - \\bar{y})^2 \\neq (\\hat{y}_i-\\bar{y})^2 + \\hat{u}_i^2$, but it works when summing components across all observations i.e., that $$TSS=ESS+RSS$$"
   ]
  },
  {
   "cell_type": "code",
   "execution_count": 32,
   "id": "5b97f494",
   "metadata": {},
   "outputs": [
    {
     "name": "stdout",
     "output_type": "stream",
     "text": [
      "53.86726292910803 29.524198881168257\n",
      "0.010566362934172027 0.02349487588953835\n",
      "9.5895694196553 8.972317184205004\n",
      "23.89468294696688 19.982659505116285\n",
      "9.28666670378556 12.61062010274219\n",
      "2.83752124152708 3.541936924239406\n",
      "7.036738475321502 6.286144568160198\n",
      "8.335836720845016 8.274289892293881\n",
      "0.06292778832691653 0.4898817565479921\n",
      "0.0012899977687558563 0.24357345752041168\n"
     ]
    }
   ],
   "source": [
    "#Separate the LHS and RHS\n",
    "\n",
    "TSS_array= (sample_df['y']- mean_sampley)**2\n",
    "ESS_array= (sample_df['y_pred']- mean_sampley)**2\n",
    "RSS_array= (sample_df['y']- sample_df['y_pred'])**2\n",
    "\n",
    "LH_array = TSS_array.copy()\n",
    "RH_array = ESS_array + RSS_array\n",
    "\n",
    "for i in range(10):\n",
    "    print(LH_array.iloc[i], RH_array.iloc[i])\n"
   ]
  },
  {
   "cell_type": "markdown",
   "id": "bd58e98b",
   "metadata": {},
   "source": [
    "### Part C:\n",
    "From the sample and estimates from the previous assignment, show that $\\sum_{\\forall i}{\\hat{u}_i} \\approx  0$ . Show that $\\sum_{\\forall i}({\\hat{u}_i*x_i}) \\approx  0$"
   ]
  },
  {
   "cell_type": "code",
   "execution_count": 33,
   "id": "933f6736",
   "metadata": {},
   "outputs": [
    {
     "name": "stdout",
     "output_type": "stream",
     "text": [
      "Sum of residuals : 0.0\n"
     ]
    }
   ],
   "source": [
    "#sum of residuals\n",
    "print(f\"Sum of residuals : {abs(round(sample_df['residuals'].sum(), 3))}\")"
   ]
  },
  {
   "cell_type": "code",
   "execution_count": 11,
   "id": "4f98a083",
   "metadata": {},
   "outputs": [
    {
     "name": "stdout",
     "output_type": "stream",
     "text": [
      "Sum(x*u) : -0.0\n"
     ]
    }
   ],
   "source": [
    "# u*x\n",
    "print(f\"Sum(x*u) : {round((sample_df['x']*sample_df['residuals']).sum(),3)}\")"
   ]
  },
  {
   "cell_type": "markdown",
   "id": "97e9b905",
   "metadata": {},
   "source": [
    "### Part D:\n",
    "From the sample and estimates from the previous assignment, calculate the variance and standard error of $\\hat{\\beta_1}$. "
   ]
  },
  {
   "cell_type": "code",
   "execution_count": 12,
   "id": "be0db87c",
   "metadata": {},
   "outputs": [
    {
     "name": "stdout",
     "output_type": "stream",
     "text": [
      "Standard Error of beta1 : 0.032884460726483204  and Variance:  0.0010813877572716164\n"
     ]
    }
   ],
   "source": [
    "#Calculate signma_hat\n",
    "n= 1000\n",
    "sigma2_hat = ((sample_df['residuals'])**2).sum()/(n-2)\n",
    "\n",
    "#Calculate SE beta1 option 2:\n",
    "\n",
    "sigma_hat = (((sample_df['residuals'])**2).sum())**(1/2)/((n-2)**(1/2))\n",
    "Sx= (((sample_df['x']-mean_samplex)**2).sum())**(1/2)\n",
    "SE_beta1 = sigma_hat/Sx\n",
    "\n",
    "print(\"Standard Error of beta1 :\", SE_beta1, \" and Variance: \", SE_beta1**2)"
   ]
  },
  {
   "cell_type": "code",
   "execution_count": null,
   "id": "9e5a03a6",
   "metadata": {},
   "outputs": [],
   "source": []
  }
 ],
 "metadata": {
  "kernelspec": {
   "display_name": "Python 3 (ipykernel)",
   "language": "python",
   "name": "python3"
  },
  "language_info": {
   "codemirror_mode": {
    "name": "ipython",
    "version": 3
   },
   "file_extension": ".py",
   "mimetype": "text/x-python",
   "name": "python",
   "nbconvert_exporter": "python",
   "pygments_lexer": "ipython3",
   "version": "3.9.12"
  }
 },
 "nbformat": 4,
 "nbformat_minor": 5
}
