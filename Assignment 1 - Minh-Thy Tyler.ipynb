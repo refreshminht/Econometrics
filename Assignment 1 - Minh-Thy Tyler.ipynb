{
 "cells": [
  {
   "cell_type": "markdown",
   "id": "7328e927",
   "metadata": {},
   "source": [
    "# Assignment 1"
   ]
  },
  {
   "cell_type": "markdown",
   "id": "27ca4735",
   "metadata": {},
   "source": [
    "**Part I**"
   ]
  },
  {
   "cell_type": "code",
   "execution_count": 1,
   "id": "72b15802",
   "metadata": {},
   "outputs": [],
   "source": [
    "# Script name: Assignment 1\n",
    "# Purpose of script: To refamiliarize myself with Python\n",
    "# Author: Minh-Thy Tyler\n",
    "# Date Created: \n",
    "# 08/30/2022\n",
    "# Notes: Using working directories, folders, etc. \n",
    "# ---------------------------\n",
    "\n",
    "# Packages\n",
    "import os\n",
    "import numpy as np\n",
    "import matplotlib.pyplot as plt\n",
    "import statistics\n",
    "\n",
    "# Set up working directory\n",
    "directory_path = '/Users/minh-thytyler/Desktop/2022-2023/ECON 320/HW' # use / instead of \\ or use \\ but insert r before (for instance: r'C:\\your-directory-path')\n",
    "os.chdir(directory_path)\n"
   ]
  },
  {
   "cell_type": "markdown",
   "id": "8f39ab7e",
   "metadata": {},
   "source": [
    "**Part II**"
   ]
  },
  {
   "cell_type": "markdown",
   "id": "591311b9",
   "metadata": {},
   "source": [
    "*1)*"
   ]
  },
  {
   "cell_type": "code",
   "execution_count": 61,
   "id": "cbc54b6f",
   "metadata": {},
   "outputs": [],
   "source": [
    "birthday = '08182001'\n",
    "rng = np.random.RandomState(int(birthday))"
   ]
  },
  {
   "cell_type": "markdown",
   "id": "8d7a8835",
   "metadata": {},
   "source": [
    "*2)*"
   ]
  },
  {
   "cell_type": "code",
   "execution_count": 62,
   "id": "595479dd",
   "metadata": {},
   "outputs": [
    {
     "name": "stdout",
     "output_type": "stream",
     "text": [
      "Mean of first cointoss: 0.4\n",
      "[0 1 1 1 1 0 0 0 0 0]\n"
     ]
    },
    {
     "data": {
      "image/png": "[encoded data removed]",
      "text/plain": [
       "<Figure size 432x288 with 1 Axes>"
      ]
     },
     "metadata": {
      "needs_background": "light"
     },
     "output_type": "display_data"
    }
   ],
   "source": [
    "#creating a blank array\n",
    "mean_list = []\n",
    "\n",
    "#creating fair coin toss 10x\n",
    "n = 10\n",
    "cointoss = rng.choice(2,n)\n",
    "print(\"Mean of first cointoss:\",cointoss.mean())\n",
    "print(cointoss)\n",
    "\n",
    "#repeating 10x coin toss 1000 times\n",
    "for x in range(1000):\n",
    "    cointoss = rng.choice(2,n)\n",
    "    y = np.mean(cointoss)\n",
    "    #adding the mean of x10 coin toss to array\n",
    "    mean_list.append(y)\n",
    "\n",
    "#plotting distribution of means\n",
    "plt.hist(mean_list, edgecolor =\"black\")\n",
    "plt.xlabel('Mean')\n",
    "plt.ylabel('Number of Means')\n",
    "plt.title(\"Distribution of Means for Cointoss\")\n",
    "plt.show()"
   ]
  },
  {
   "cell_type": "code",
   "execution_count": 63,
   "id": "8eaa983f",
   "metadata": {},
   "outputs": [
    {
     "name": "stdout",
     "output_type": "stream",
     "text": [
      "mean of means:  0.5017\n",
      "standard deviation of means:  0.1571999421813565\n"
     ]
    }
   ],
   "source": [
    "#mean of the means\n",
    "#standard deviation of means\n",
    "print(\"mean of means: \", np.mean(mean_list))\n",
    "print(\"standard deviation of means: \", statistics.stdev(mean_list))"
   ]
  },
  {
   "cell_type": "markdown",
   "id": "b6262481",
   "metadata": {},
   "source": [
    "*3)*"
   ]
  },
  {
   "cell_type": "code",
   "execution_count": 64,
   "id": "57a17f81",
   "metadata": {},
   "outputs": [
    {
     "name": "stdout",
     "output_type": "stream",
     "text": [
      "Mean of first cointoss: 0.4\n",
      "[1 1 1 0 1 0 0 0 0 0 0 0 1 1 1 0 0 0 0 1 1 0 0 0 1 0 1 0 0 1 0 0 1 1 1 0 0\n",
      " 0 0 1 1 1 0 0 0 0 0 0 1 1 1 0 1 0 0 1 0 1 0 0 0 1 1 0 0 0 1 0 1 0 1 0 0 0\n",
      " 0 1 0 1 0 0 0 1 1 0 0 0 1 0 0 1 1 0 0 0 0 1 1 1 0 1]\n"
     ]
    },
    {
     "data": {
      "image/png": "[encoded data removed]",
      "text/plain": [
       "<Figure size 432x288 with 1 Axes>"
      ]
     },
     "metadata": {
      "needs_background": "light"
     },
     "output_type": "display_data"
    }
   ],
   "source": [
    "#creating fair coin toss 100x\n",
    "n = 100\n",
    "cointoss = rng.choice(2,n)\n",
    "print(\"Mean of first cointoss:\",cointoss.mean())\n",
    "print(cointoss)\n",
    "\n",
    "#repeating 100x coin toss 1000 times\n",
    "for x in range(1000):\n",
    "    cointoss = rng.choice(2,n)\n",
    "    y = np.mean(cointoss)\n",
    "    #adding the mean of x10 coin toss to array\n",
    "    mean_list.append(y)\n",
    "\n",
    "#plotting distribution of means\n",
    "plt.hist(mean_list, edgecolor =\"black\")\n",
    "plt.xlabel('Mean')\n",
    "plt.ylabel('Number of Means')\n",
    "plt.title(\"Distribution of Means for Cointoss\")\n",
    "plt.show()"
   ]
  },
  {
   "cell_type": "code",
   "execution_count": 65,
   "id": "b673b3f9",
   "metadata": {},
   "outputs": [
    {
     "name": "stdout",
     "output_type": "stream",
     "text": [
      "mean of means:  0.500655\n",
      "standard deviation of means:  0.11703277023831755\n"
     ]
    }
   ],
   "source": [
    "#mean of the means\n",
    "#sd of means\n",
    "print(\"mean of means: \", np.mean(mean_list))\n",
    "print(\"standard deviation of means: \", statistics.stdev(mean_list))"
   ]
  }
 ],
 "metadata": {
  "kernelspec": {
   "display_name": "Python 3 (ipykernel)",
   "language": "python",
   "name": "python3"
  },
  "language_info": {
   "codemirror_mode": {
    "name": "ipython",
    "version": 3
   },
   "file_extension": ".py",
   "mimetype": "text/x-python",
   "name": "python",
   "nbconvert_exporter": "python",
   "pygments_lexer": "ipython3",
   "version": "3.9.12"
  }
 },
 "nbformat": 4,
 "nbformat_minor": 5
}
