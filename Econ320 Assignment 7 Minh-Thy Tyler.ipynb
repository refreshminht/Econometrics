{
 "cells": [
  {
   "cell_type": "code",
   "execution_count": 3,
   "id": "1378c4f9",
   "metadata": {},
   "outputs": [],
   "source": [
    "# Script name: Assignment 7\n",
    "# Purpose of script: RSimulate data, draw 1,000 random samples, and generate sample estimates.\n",
    "# Author: Minh-Thy Tyler\n",
    "# Date Created: \n",
    "# 10/14/2022\n",
    "# Notes: N/A\n",
    "# ---------------------------\n",
    "\n",
    "# Packages\n",
    "import numpy as np\n",
    "import pandas as pd\n",
    "from scipy import stats\n",
    "import matplotlib.pyplot as plt\n",
    "import seaborn as sns\n",
    "from matplotlib import style\n",
    "style.use('seaborn-darkgrid')\n",
    "from sklearn.linear_model import LinearRegression\n",
    "import statsmodels.formula.api as smf\n",
    "import os\n",
    "# Set up working directory\n",
    "directory_path = '/Users/minh-thytyler/Desktop/2022-2023/ECON 320/HW' # use / instead of \\ or use \\ but insert r before (for instance: r'C:\\your-directory-path')\n",
    "os.chdir(directory_path)"
   ]
  },
  {
   "cell_type": "markdown",
   "id": "bc139f7b",
   "metadata": {},
   "source": [
    "Consider the following data-generating process (population regression function):\n",
    "$$y_i = 2.5 + 1.5 * x_i + u_i$$\n",
    "where X ~ N(10,10) and U ~ N(0,5). X and U are independent."
   ]
  },
  {
   "cell_type": "markdown",
   "id": "c6b987cf",
   "metadata": {},
   "source": [
    "**Part A**"
   ]
  },
  {
   "cell_type": "code",
   "execution_count": 29,
   "id": "70cd4cd4",
   "metadata": {},
   "outputs": [
    {
     "data": {
      "text/html": [
       "<div>\n",
       "<style scoped>\n",
       "    .dataframe tbody tr th:only-of-type {\n",
       "        vertical-align: middle;\n",
       "    }\n",
       "\n",
       "    .dataframe tbody tr th {\n",
       "        vertical-align: top;\n",
       "    }\n",
       "\n",
       "    .dataframe thead th {\n",
       "        text-align: right;\n",
       "    }\n",
       "</style>\n",
       "<table border=\"1\" class=\"dataframe\">\n",
       "  <thead>\n",
       "    <tr style=\"text-align: right;\">\n",
       "      <th></th>\n",
       "      <th>y</th>\n",
       "      <th>x</th>\n",
       "      <th>u</th>\n",
       "    </tr>\n",
       "  </thead>\n",
       "  <tbody>\n",
       "    <tr>\n",
       "      <th>0</th>\n",
       "      <td>18.344779</td>\n",
       "      <td>12.968579</td>\n",
       "      <td>-3.608090</td>\n",
       "    </tr>\n",
       "    <tr>\n",
       "      <th>1</th>\n",
       "      <td>15.540891</td>\n",
       "      <td>8.018650</td>\n",
       "      <td>1.012916</td>\n",
       "    </tr>\n",
       "    <tr>\n",
       "      <th>2</th>\n",
       "      <td>16.222621</td>\n",
       "      <td>9.476238</td>\n",
       "      <td>-0.491735</td>\n",
       "    </tr>\n",
       "    <tr>\n",
       "      <th>3</th>\n",
       "      <td>21.547289</td>\n",
       "      <td>10.917037</td>\n",
       "      <td>2.671733</td>\n",
       "    </tr>\n",
       "    <tr>\n",
       "      <th>4</th>\n",
       "      <td>21.389018</td>\n",
       "      <td>11.908683</td>\n",
       "      <td>1.025993</td>\n",
       "    </tr>\n",
       "  </tbody>\n",
       "</table>\n",
       "</div>"
      ],
      "text/plain": [
       "           y          x         u\n",
       "0  18.344779  12.968579 -3.608090\n",
       "1  15.540891   8.018650  1.012916\n",
       "2  16.222621   9.476238 -0.491735\n",
       "3  21.547289  10.917037  2.671733\n",
       "4  21.389018  11.908683  1.025993"
      ]
     },
     "execution_count": 29,
     "metadata": {},
     "output_type": "execute_result"
    }
   ],
   "source": [
    "# Set up the Data Generating Process\n",
    "\n",
    "\n",
    "# Set NumPy Seed using birthday\n",
    "birthday = '08182001'\n",
    "rng = np.random.RandomState(int(birthday))\n",
    "\n",
    "#Declare your betas\n",
    "beta0= 2.5\n",
    "beta1= 1.5\n",
    "\n",
    "\n",
    "# Calculate y, x and u over 100,000 values\n",
    "x = rng.normal(loc = 10, scale=float(10)**.5, size = 100000)\n",
    "u = rng.normal(loc = 0, scale= float(5)**.5, size = 100000)\n",
    "y = beta0 + beta1 * x + u\n",
    "\n",
    "# Store in Pandas DataFrame\n",
    "population_data = pd.DataFrame({'y' : y, 'x' : x, 'u':u })\n",
    "population_data.head()"
   ]
  },
  {
   "cell_type": "code",
   "execution_count": 17,
   "id": "90ad9b9c",
   "metadata": {},
   "outputs": [
    {
     "data": {
      "text/plain": [
       "0.8278302675134497"
      ]
     },
     "execution_count": 17,
     "metadata": {},
     "output_type": "execute_result"
    }
   ],
   "source": [
    "coefs.rsquared\n",
    "\n",
    "#rsquared.results\n"
   ]
  },
  {
   "cell_type": "code",
   "execution_count": 33,
   "id": "1bd9274e",
   "metadata": {},
   "outputs": [],
   "source": [
    "sample_df['y_hat'] = coefs.fittedvalues"
   ]
  },
  {
   "cell_type": "markdown",
   "id": "4c4f2810",
   "metadata": {},
   "source": [
    "**Part B**"
   ]
  },
  {
   "cell_type": "code",
   "execution_count": 5,
   "id": "d4ce0223",
   "metadata": {},
   "outputs": [
    {
     "name": "stdout",
     "output_type": "stream",
     "text": [
      "               y          x         u\n",
      "86155  15.150869  10.050169 -2.424385\n",
      "29633  18.573493   9.658925  1.585106\n",
      "67710  15.352729   9.391604 -1.234677\n",
      "62348   8.497672   4.534294 -0.803770\n",
      "98787  11.348491   6.922958 -1.535946\n",
      "<statsmodels.regression.linear_model.RegressionResultsWrapper object at 0x7fd064a687c0>\n",
      "                            OLS Regression Results                            \n",
      "==============================================================================\n",
      "Dep. Variable:                      y   R-squared:                       0.828\n",
      "Model:                            OLS   Adj. R-squared:                  0.828\n",
      "Method:                 Least Squares   F-statistic:                     4799.\n",
      "Date:                Tue, 18 Oct 2022   Prob (F-statistic):               0.00\n",
      "Time:                        20:16:07   Log-Likelihood:                -2184.7\n",
      "No. Observations:                1000   AIC:                             4373.\n",
      "Df Residuals:                     998   BIC:                             4383.\n",
      "Df Model:                           1                                         \n",
      "Covariance Type:            nonrobust                                         \n",
      "==============================================================================\n",
      "                 coef    std err          t      P>|t|      [0.025      0.975]\n",
      "------------------------------------------------------------------------------\n",
      "Intercept      2.7317      0.223     12.241      0.000       2.294       3.170\n",
      "x              1.4825      0.021     69.272      0.000       1.440       1.524\n",
      "==============================================================================\n",
      "Omnibus:                        1.156   Durbin-Watson:                   1.929\n",
      "Prob(Omnibus):                  0.561   Jarque-Bera (JB):                1.184\n",
      "Skew:                          -0.028   Prob(JB):                        0.553\n",
      "Kurtosis:                       2.841   Cond. No.                         34.5\n",
      "==============================================================================\n",
      "\n",
      "Notes:\n",
      "[1] Standard Errors assume that the covariance matrix of the errors is correctly specified.\n"
     ]
    }
   ],
   "source": [
    "# Get a sample of 1000 observations, estimating B0 and B1\n",
    "sample_df = population_data.sample(n = 1000, random_state = 99)\n",
    "\n",
    "print(sample_df.head())\n",
    "\n",
    "mod = smf.ols(formula = 'y ~ x', data = sample_df)\n",
    "\n",
    "coefs = mod.fit()\n",
    "\n",
    "print(coefs)\n",
    "\n",
    "print(coefs.summary())"
   ]
  },
  {
   "cell_type": "code",
   "execution_count": 8,
   "id": "aecd5461",
   "metadata": {},
   "outputs": [
    {
     "data": {
      "text/html": [
       "<table class=\"simpletable\">\n",
       "<caption>OLS Regression Results</caption>\n",
       "<tr>\n",
       "  <th>Dep. Variable:</th>            <td>y</td>        <th>  R-squared:         </th> <td>   0.828</td>\n",
       "</tr>\n",
       "<tr>\n",
       "  <th>Model:</th>                   <td>OLS</td>       <th>  Adj. R-squared:    </th> <td>   0.828</td>\n",
       "</tr>\n",
       "<tr>\n",
       "  <th>Method:</th>             <td>Least Squares</td>  <th>  F-statistic:       </th> <td>   4799.</td>\n",
       "</tr>\n",
       "<tr>\n",
       "  <th>Date:</th>             <td>Tue, 18 Oct 2022</td> <th>  Prob (F-statistic):</th>  <td>  0.00</td> \n",
       "</tr>\n",
       "<tr>\n",
       "  <th>Time:</th>                 <td>20:16:26</td>     <th>  Log-Likelihood:    </th> <td> -2184.7</td>\n",
       "</tr>\n",
       "<tr>\n",
       "  <th>No. Observations:</th>      <td>  1000</td>      <th>  AIC:               </th> <td>   4373.</td>\n",
       "</tr>\n",
       "<tr>\n",
       "  <th>Df Residuals:</th>          <td>   998</td>      <th>  BIC:               </th> <td>   4383.</td>\n",
       "</tr>\n",
       "<tr>\n",
       "  <th>Df Model:</th>              <td>     1</td>      <th>                     </th>     <td> </td>   \n",
       "</tr>\n",
       "<tr>\n",
       "  <th>Covariance Type:</th>      <td>nonrobust</td>    <th>                     </th>     <td> </td>   \n",
       "</tr>\n",
       "</table>\n",
       "<table class=\"simpletable\">\n",
       "<tr>\n",
       "      <td></td>         <th>coef</th>     <th>std err</th>      <th>t</th>      <th>P>|t|</th>  <th>[0.025</th>    <th>0.975]</th>  \n",
       "</tr>\n",
       "<tr>\n",
       "  <th>Intercept</th> <td>    2.7317</td> <td>    0.223</td> <td>   12.241</td> <td> 0.000</td> <td>    2.294</td> <td>    3.170</td>\n",
       "</tr>\n",
       "<tr>\n",
       "  <th>x</th>         <td>    1.4825</td> <td>    0.021</td> <td>   69.272</td> <td> 0.000</td> <td>    1.440</td> <td>    1.524</td>\n",
       "</tr>\n",
       "</table>\n",
       "<table class=\"simpletable\">\n",
       "<tr>\n",
       "  <th>Omnibus:</th>       <td> 1.156</td> <th>  Durbin-Watson:     </th> <td>   1.929</td>\n",
       "</tr>\n",
       "<tr>\n",
       "  <th>Prob(Omnibus):</th> <td> 0.561</td> <th>  Jarque-Bera (JB):  </th> <td>   1.184</td>\n",
       "</tr>\n",
       "<tr>\n",
       "  <th>Skew:</th>          <td>-0.028</td> <th>  Prob(JB):          </th> <td>   0.553</td>\n",
       "</tr>\n",
       "<tr>\n",
       "  <th>Kurtosis:</th>      <td> 2.841</td> <th>  Cond. No.          </th> <td>    34.5</td>\n",
       "</tr>\n",
       "</table><br/><br/>Notes:<br/>[1] Standard Errors assume that the covariance matrix of the errors is correctly specified."
      ],
      "text/plain": [
       "<class 'statsmodels.iolib.summary.Summary'>\n",
       "\"\"\"\n",
       "                            OLS Regression Results                            \n",
       "==============================================================================\n",
       "Dep. Variable:                      y   R-squared:                       0.828\n",
       "Model:                            OLS   Adj. R-squared:                  0.828\n",
       "Method:                 Least Squares   F-statistic:                     4799.\n",
       "Date:                Tue, 18 Oct 2022   Prob (F-statistic):               0.00\n",
       "Time:                        20:16:26   Log-Likelihood:                -2184.7\n",
       "No. Observations:                1000   AIC:                             4373.\n",
       "Df Residuals:                     998   BIC:                             4383.\n",
       "Df Model:                           1                                         \n",
       "Covariance Type:            nonrobust                                         \n",
       "==============================================================================\n",
       "                 coef    std err          t      P>|t|      [0.025      0.975]\n",
       "------------------------------------------------------------------------------\n",
       "Intercept      2.7317      0.223     12.241      0.000       2.294       3.170\n",
       "x              1.4825      0.021     69.272      0.000       1.440       1.524\n",
       "==============================================================================\n",
       "Omnibus:                        1.156   Durbin-Watson:                   1.929\n",
       "Prob(Omnibus):                  0.561   Jarque-Bera (JB):                1.184\n",
       "Skew:                          -0.028   Prob(JB):                        0.553\n",
       "Kurtosis:                       2.841   Cond. No.                         34.5\n",
       "==============================================================================\n",
       "\n",
       "Notes:\n",
       "[1] Standard Errors assume that the covariance matrix of the errors is correctly specified.\n",
       "\"\"\""
      ]
     },
     "execution_count": 8,
     "metadata": {},
     "output_type": "execute_result"
    }
   ],
   "source": [
    "mod.fit().summary()"
   ]
  },
  {
   "cell_type": "code",
   "execution_count": 9,
   "id": "d6c180dc",
   "metadata": {},
   "outputs": [
    {
     "name": "stdout",
     "output_type": "stream",
     "text": [
      "b: \n",
      "Intercept    2.731746\n",
      "x            1.482466\n",
      "dtype: float64\n",
      "\n"
     ]
    }
   ],
   "source": [
    "#Beta0 and beta1 estimates\n",
    "b = coefs.params\n",
    "print(f'b: \\n{b}\\n')"
   ]
  },
  {
   "cell_type": "code",
   "execution_count": null,
   "id": "eaa6a1e7",
   "metadata": {},
   "outputs": [],
   "source": []
  },
  {
   "cell_type": "markdown",
   "id": "7eadc874",
   "metadata": {},
   "source": [
    "**Part C**"
   ]
  },
  {
   "cell_type": "code",
   "execution_count": 53,
   "id": "b9148bd0",
   "metadata": {},
   "outputs": [
    {
     "data": {
      "text/html": [
       "<div>\n",
       "<style scoped>\n",
       "    .dataframe tbody tr th:only-of-type {\n",
       "        vertical-align: middle;\n",
       "    }\n",
       "\n",
       "    .dataframe tbody tr th {\n",
       "        vertical-align: top;\n",
       "    }\n",
       "\n",
       "    .dataframe thead th {\n",
       "        text-align: right;\n",
       "    }\n",
       "</style>\n",
       "<table border=\"1\" class=\"dataframe\">\n",
       "  <thead>\n",
       "    <tr style=\"text-align: right;\">\n",
       "      <th></th>\n",
       "      <th>beta0</th>\n",
       "      <th>beta1</th>\n",
       "    </tr>\n",
       "  </thead>\n",
       "  <tbody>\n",
       "    <tr>\n",
       "      <th>0</th>\n",
       "      <td>2.672006</td>\n",
       "      <td>1.483146</td>\n",
       "    </tr>\n",
       "    <tr>\n",
       "      <th>1</th>\n",
       "      <td>2.880405</td>\n",
       "      <td>1.477161</td>\n",
       "    </tr>\n",
       "    <tr>\n",
       "      <th>2</th>\n",
       "      <td>2.771094</td>\n",
       "      <td>1.473048</td>\n",
       "    </tr>\n",
       "    <tr>\n",
       "      <th>3</th>\n",
       "      <td>2.384784</td>\n",
       "      <td>1.515493</td>\n",
       "    </tr>\n",
       "    <tr>\n",
       "      <th>4</th>\n",
       "      <td>2.542764</td>\n",
       "      <td>1.499580</td>\n",
       "    </tr>\n",
       "  </tbody>\n",
       "</table>\n",
       "</div>"
      ],
      "text/plain": [
       "      beta0     beta1\n",
       "0  2.672006  1.483146\n",
       "1  2.880405  1.477161\n",
       "2  2.771094  1.473048\n",
       "3  2.384784  1.515493\n",
       "4  2.542764  1.499580"
      ]
     },
     "execution_count": 53,
     "metadata": {},
     "output_type": "execute_result"
    }
   ],
   "source": [
    "#run the procedure of the loop\n",
    "beta0_ar = []\n",
    "beta1_ar = []\n",
    "for i in range(1000):\n",
    "    sample_df = population_data.sample(n= 1000, random_state=i)\n",
    "    reg = smf.ols(formula = 'y ~ x', data = sample_df).fit()\n",
    "    beta0_ar.append(reg.params[0])\n",
    "    beta1_ar.append(reg.params[1])\n",
    "    \n",
    "reg_coeff_df = pd.DataFrame({'beta0':beta0_ar, 'beta1': beta1_ar})\n",
    "reg_coeff_df.head()"
   ]
  },
  {
   "cell_type": "markdown",
   "id": "863af774",
   "metadata": {},
   "source": [
    "**Part D**"
   ]
  },
  {
   "cell_type": "code",
   "execution_count": 54,
   "id": "cbc6f4d6",
   "metadata": {},
   "outputs": [
    {
     "data": {
      "text/plain": [
       "Text(0.5, 1.0, 'Fig 1: Sampling Distribution of Beta 0 hat')"
      ]
     },
     "execution_count": 54,
     "metadata": {},
     "output_type": "execute_result"
    },
    {
     "data": {
      "image/png": "[encoded data removed]",
      "text/plain": [
       "<Figure size 1440x432 with 1 Axes>"
      ]
     },
     "metadata": {},
     "output_type": "display_data"
    }
   ],
   "source": [
    "plt.figure(figsize= (20,6))\n",
    "\n",
    "#Distribution of Beta0\n",
    "plt.subplot(1,2,1)\n",
    "plt.hist(reg_coeff_df['beta0'], alpha = .6, color = 'Blue', bins = 20)\n",
    "plt.xlabel(\"Beta 0\", fontsize = 14)\n",
    "plt.ylabel(\"Frequencies out of 1000\", fontsize = 14)\n",
    "plt.title(\"Fig 1: Sampling Distribution of Beta 0 hat\", fontsize = 16)\n"
   ]
  },
  {
   "cell_type": "code",
   "execution_count": 55,
   "id": "0dc86dc0",
   "metadata": {},
   "outputs": [
    {
     "data": {
      "text/plain": [
       "Text(0.5, 1.0, 'Fig 2: Sampling Distribution of Beta 1 hat')"
      ]
     },
     "execution_count": 55,
     "metadata": {},
     "output_type": "execute_result"
    },
    {
     "data": {
      "image/png": "[encoded data removed]",
      "text/plain": [
       "<Figure size 1440x432 with 1 Axes>"
      ]
     },
     "metadata": {},
     "output_type": "display_data"
    }
   ],
   "source": [
    "plt.figure(figsize= (20,6))\n",
    "\n",
    "#Distribution of Beta1\n",
    "plt.subplot(1,2,1)\n",
    "plt.hist(reg_coeff_df['beta1'], alpha = .6, color = 'Red', bins = 20)\n",
    "plt.xlabel(\"Beta 1\", fontsize = 14)\n",
    "plt.ylabel(\"Frequencies out of 1000\", fontsize = 14)\n",
    "plt.title(\"Fig 2: Sampling Distribution of Beta 1 hat\", fontsize = 16)"
   ]
  },
  {
   "cell_type": "markdown",
   "id": "a869adee",
   "metadata": {},
   "source": [
    "**Part E** What happens to the sampling distribution of the estimate of $β_1$ if U ~ N(0,50) or U ~ N(0,1)? Present two more histograms, Figures 3 and 4.\n"
   ]
  },
  {
   "cell_type": "markdown",
   "id": "ac3e7c01",
   "metadata": {},
   "source": [
    "**Answer:**  When U ~ N(0,1), the sampling distribution of the estimate of beta 1 has a smaller range from ~1.47 to ~1.54 compared to the beta1 when U ~ N(0,5). When U ~ N(0,50) the sampling distribution of the estimate of beta 1 has a larger range from ~1.3 to ~1.7. "
   ]
  },
  {
   "cell_type": "code",
   "execution_count": 56,
   "id": "58a70814",
   "metadata": {},
   "outputs": [
    {
     "data": {
      "text/plain": [
       "Text(0.5, 1.0, 'Fig 1: Sampling Distribution of Beta 1 hat if U ~ N(0,1)')"
      ]
     },
     "execution_count": 56,
     "metadata": {},
     "output_type": "execute_result"
    },
    {
     "data": {
      "image/png": "[encoded data removed]",
      "text/plain": [
       "<Figure size 1440x432 with 1 Axes>"
      ]
     },
     "metadata": {},
     "output_type": "display_data"
    }
   ],
   "source": [
    "#if U ~ N(0,1)\n",
    "\n",
    "n = 100000\n",
    "u = rng.normal(0,float(1)**.5,n)\n",
    "y = 2.5 + 1.5*x + u\n",
    "population = pd.DataFrame({'y':y, 'x':x, 'u':u})\n",
    "\n",
    "sample_df = population.sample(n = 1000, random_state = 99)\n",
    "mod = smf.ols(formula = 'y ~ x', data = sample_df)\n",
    "\n",
    "coefs = mod.fit()\n",
    "beta1_ar = []\n",
    "for i in range(1000):\n",
    "    sample_df = population.sample(n= 1000, random_state=i)\n",
    "    reg = smf.ols(formula = 'y ~ x', data = sample_df).fit()\n",
    "    beta1_ar.append(reg.params[1])\n",
    "    \n",
    "reg_coeff_df = pd.DataFrame({'beta1': beta1_ar})\n",
    "\n",
    "plt.figure(figsize= (20,6))\n",
    "\n",
    "#Distribution of Beta1 \n",
    "plt.subplot(1,2,1)\n",
    "plt.hist(reg_coeff_df['beta1'], alpha = .6, color = 'Blue', bins = 20)\n",
    "plt.xlabel(\"Beta 1\", fontsize = 14)\n",
    "plt.ylabel(\"Frequencies out of 1000\", fontsize = 14)\n",
    "plt.title(\"Fig 1: Sampling Distribution of Beta 1 hat if U ~ N(0,1)\", fontsize = 16)\n",
    "\n",
    "\n"
   ]
  },
  {
   "cell_type": "code",
   "execution_count": 57,
   "id": "7664b9a7",
   "metadata": {},
   "outputs": [
    {
     "data": {
      "text/plain": [
       "Text(0.5, 1.0, 'Fig 1: Sampling Distribution of Beta 1 hat if U ~ N(0,50)')"
      ]
     },
     "execution_count": 57,
     "metadata": {},
     "output_type": "execute_result"
    },
    {
     "data": {
      "image/png": "[encoded data removed]",
      "text/plain": [
       "<Figure size 1440x432 with 1 Axes>"
      ]
     },
     "metadata": {},
     "output_type": "display_data"
    }
   ],
   "source": [
    "#if U ~ N(0,50)\n",
    "\n",
    "u = rng.normal(0,float(50)**.5,n)\n",
    "y = 2.5 + 1.5*x + u\n",
    "population = pd.DataFrame({'y':y, 'x':x, 'u':u})\n",
    "\n",
    "sample_df = population.sample(n = 1000, random_state = 99)\n",
    "mod = smf.ols(formula = 'y ~ x', data = sample_df)\n",
    "\n",
    "coefs = mod.fit()\n",
    "\n",
    "beta1_ar = []\n",
    "for i in range(1000):\n",
    "    sample_df = population.sample(n= 1000, random_state=i)\n",
    "    reg = smf.ols(formula = 'y ~ x', data = sample_df).fit()\n",
    "    beta1_ar.append(reg.params[1])\n",
    "    \n",
    "reg_coeff_df = pd.DataFrame({'beta1': beta1_ar})\n",
    "\n",
    "plt.figure(figsize= (20,6))\n",
    "\n",
    "#Distribution of Beta1 \n",
    "plt.subplot(1,2,1)\n",
    "plt.hist(reg_coeff_df['beta1'], alpha = .6, color = 'Blue', bins = 20)\n",
    "plt.xlabel(\"Beta 1\", fontsize = 14)\n",
    "plt.ylabel(\"Frequencies out of 1000\", fontsize = 14)\n",
    "plt.title(\"Fig 1: Sampling Distribution of Beta 1 hat if U ~ N(0,50)\", fontsize = 16)\n",
    "\n"
   ]
  },
  {
   "cell_type": "code",
   "execution_count": null,
   "id": "63acf820",
   "metadata": {},
   "outputs": [],
   "source": []
  }
 ],
 "metadata": {
  "kernelspec": {
   "display_name": "Python 3 (ipykernel)",
   "language": "python",
   "name": "python3"
  },
  "language_info": {
   "codemirror_mode": {
    "name": "ipython",
    "version": 3
   },
   "file_extension": ".py",
   "mimetype": "text/x-python",
   "name": "python",
   "nbconvert_exporter": "python",
   "pygments_lexer": "ipython3",
   "version": "3.9.12"
  }
 },
 "nbformat": 4,
 "nbformat_minor": 5
}
