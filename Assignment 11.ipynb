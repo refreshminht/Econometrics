{
 "cells": [
  {
   "cell_type": "code",
   "execution_count": 2,
   "id": "4c67d3e9",
   "metadata": {},
   "outputs": [],
   "source": [
    "# Script name: Assignment 11\n",
    "# Purpose of script: Assignment 11\n",
    "# Author: Minh-Thy Tyler\n",
    "# Date Created: \n",
    "# 11/21/2022\n",
    "# Notes: N/A\n",
    "# ---------------------------\n",
    "\n",
    "import numpy as np\n",
    "import pandas as pd\n",
    "import os\n",
    "import random\n",
    "import matplotlib.pyplot as plt\n",
    "import statsmodels.formula.api as smf\n",
    "from scipy import stats\n",
    "import patsy\n",
    "import seaborn as sns\n",
    "\n",
    "# Set up working directory\n",
    "directory_path = '/Users/minh-thytyler/Desktop/2022-2023/ECON 320/HW' # use / instead of \\ or use \\ but insert r before (for instance: r'C:\\your-directory-path')\n",
    "os.chdir(directory_path)"
   ]
  },
  {
   "cell_type": "markdown",
   "id": "a54ce694",
   "metadata": {},
   "source": [
    "## Part 1"
   ]
  },
  {
   "cell_type": "code",
   "execution_count": 3,
   "id": "972b91cc",
   "metadata": {},
   "outputs": [
    {
     "name": "stdout",
     "output_type": "stream",
     "text": [
      "           x           y     uprime         u\n",
      "0  10.938747   85.879819 -10.630158 -0.971789\n",
      "1   9.373442   84.224838   0.237302  0.025316\n",
      "2   9.834372   85.166520  -2.508455 -0.255070\n",
      "3  10.289993   85.665495  -5.654446 -0.549509\n",
      "4  10.603579  104.263681  10.435052  0.984107\n",
      "                    x               y          uprime               u\n",
      "count  1000000.000000  1000000.000000  1000000.000000  1000000.000000\n",
      "mean         9.998355       88.979780       -0.007063       -0.000556\n",
      "std          1.001314       12.848642       10.059232        1.001204\n",
      "min          5.170482       36.210090      -53.719248       -4.927307\n",
      "25%          9.322126       80.055947       -6.702538       -0.675628\n",
      "50%          9.998102       88.501145       -0.016307       -0.001628\n",
      "75%         10.674147       97.364511        6.686365        0.674362\n",
      "max         15.224590      164.884965       52.502017        4.974452\n"
     ]
    }
   ],
   "source": [
    "#Perform a data generating process of y = B0 + B1 * x + u\n",
    "birthday = '08182001'\n",
    "rng = np.random.RandomState(int(birthday))\n",
    "\n",
    "beta0=9\n",
    "beta1=8\n",
    "\n",
    "x = rng.normal(loc=10,scale=1,size=1000000)\n",
    "u = rng.normal(loc=0,scale=1,size=1000000)\n",
    "#making u a function of x\n",
    "uprime = x*u\n",
    "y = beta0 +beta1*x +uprime\n",
    "\n",
    "#data variable is in a data frame\n",
    "\n",
    "data ={\"x\": x,\"y\":y, 'uprime':uprime, 'u':u}\n",
    "data = pd.DataFrame(data)\n",
    "print(data.head())\n",
    "print(data.describe())"
   ]
  },
  {
   "cell_type": "code",
   "execution_count": 4,
   "id": "48bf8d9f",
   "metadata": {},
   "outputs": [
    {
     "data": {
      "text/plain": [
       "101.1880489609655"
      ]
     },
     "execution_count": 4,
     "metadata": {},
     "output_type": "execute_result"
    }
   ],
   "source": [
    "#expected variance for uprime\n",
    "np.var(uprime)"
   ]
  },
  {
   "cell_type": "code",
   "execution_count": 5,
   "id": "a4e58bc5",
   "metadata": {},
   "outputs": [
    {
     "name": "stdout",
     "output_type": "stream",
     "text": [
      "      beta1\n",
      "0  8.227087\n",
      "1  8.214330\n",
      "2  8.177066\n",
      "3  7.779881\n",
      "4  8.621313\n"
     ]
    }
   ],
   "source": [
    "#Simulation on beta1\n",
    "beta_1_het_list = []\n",
    "for i in range(1000):\n",
    "    sample_df = data.sample(n=1000, replace = True, random_state = i)\n",
    "    reg = smf.ols(formula = 'y~x', data = sample_df).fit()\n",
    "    beta_1_het_list.append(reg.params[1])\n",
    "reg_df = pd.DataFrame({'beta1':beta_1_het_list})\n",
    "print(reg_df.head())"
   ]
  },
  {
   "cell_type": "code",
   "execution_count": 6,
   "id": "86aa0c41",
   "metadata": {},
   "outputs": [
    {
     "name": "stdout",
     "output_type": "stream",
     "text": [
      "The expected variance of beta1 under heterskedasticity:  beta1    0.098284\n",
      "dtype: float64\n"
     ]
    }
   ],
   "source": [
    "#finding the expected variance of beta 1\n",
    "print('The expected variance of beta1 under heterskedasticity: ',np.var(reg_df))"
   ]
  },
  {
   "cell_type": "code",
   "execution_count": 5,
   "id": "f1409abf",
   "metadata": {},
   "outputs": [
    {
     "name": "stdout",
     "output_type": "stream",
     "text": [
      "      beta1\n",
      "0  8.009406\n",
      "1  8.027901\n",
      "2  8.019268\n",
      "3  7.988183\n",
      "4  8.060354\n"
     ]
    }
   ],
   "source": [
    "#Perform a data generating process of y = B0 + B1 * x + u\n",
    "birthday = '08182001'\n",
    "rng = np.random.RandomState(int(birthday))\n",
    "\n",
    "beta0=9\n",
    "beta1=8\n",
    "\n",
    "x = rng.normal(loc=10,scale=1,size=1000000)\n",
    "u = rng.normal(loc=0,scale=1,size=1000000)\n",
    "#making u a function of x\n",
    "y = beta0 +beta1*x +u\n",
    "\n",
    "#data variable is in a data frame\n",
    "\n",
    "datas ={\"x\": x, \"u\":u,\"y\":y}\n",
    "datas = pd.DataFrame(datas)\n",
    "\n",
    "beta_1_hom_list = []\n",
    "for i in range(1000):\n",
    "    sample_df = datas.sample(n=1000, replace = True, random_state = i)\n",
    "    reg = smf.ols(formula = 'y~x', data = sample_df).fit()\n",
    "    beta_1_hom_list.append(reg.params[1])\n",
    "reg_df = pd.DataFrame({'beta1':beta_1_hom_list})\n",
    "print(reg_df.head())\n",
    "\n"
   ]
  },
  {
   "cell_type": "code",
   "execution_count": 6,
   "id": "d9db699e",
   "metadata": {},
   "outputs": [
    {
     "name": "stdout",
     "output_type": "stream",
     "text": [
      "The empirical variance under homoskedasticity is:  beta1    0.000952\n",
      "dtype: float64\n"
     ]
    }
   ],
   "source": [
    "#Empirical variance under homoskedasticity\n",
    "print('The empirical variance under homoskedasticity is: ',np.var(reg_df))"
   ]
  },
  {
   "cell_type": "markdown",
   "id": "51b5bd2a",
   "metadata": {},
   "source": [
    "**Response**\n",
    "\n",
    "The variace under homoskedasticity is smaller (.000952) than the variance under heteroskedasticity (.098284). When heteroskedasticity is present, OLS is no longer BLUE. In principle, it is possible to find unbiased estimators that have smaller variances than the OLS estimators."
   ]
  },
  {
   "cell_type": "markdown",
   "id": "06a6d58b",
   "metadata": {},
   "source": [
    "## Part 2"
   ]
  },
  {
   "cell_type": "code",
   "execution_count": 7,
   "id": "e260d87d",
   "metadata": {},
   "outputs": [
    {
     "data": {
      "text/html": [
       "<div>\n",
       "<style scoped>\n",
       "    .dataframe tbody tr th:only-of-type {\n",
       "        vertical-align: middle;\n",
       "    }\n",
       "\n",
       "    .dataframe tbody tr th {\n",
       "        vertical-align: top;\n",
       "    }\n",
       "\n",
       "    .dataframe thead th {\n",
       "        text-align: right;\n",
       "    }\n",
       "</style>\n",
       "<table border=\"1\" class=\"dataframe\">\n",
       "  <thead>\n",
       "    <tr style=\"text-align: right;\">\n",
       "      <th></th>\n",
       "      <th>z</th>\n",
       "      <th>x1</th>\n",
       "      <th>x2</th>\n",
       "      <th>x3</th>\n",
       "      <th>x4</th>\n",
       "      <th>x5</th>\n",
       "    </tr>\n",
       "  </thead>\n",
       "  <tbody>\n",
       "    <tr>\n",
       "      <th>0</th>\n",
       "      <td>3</td>\n",
       "      <td>0</td>\n",
       "      <td>0</td>\n",
       "      <td>1</td>\n",
       "      <td>0</td>\n",
       "      <td>0</td>\n",
       "    </tr>\n",
       "    <tr>\n",
       "      <th>1</th>\n",
       "      <td>2</td>\n",
       "      <td>0</td>\n",
       "      <td>1</td>\n",
       "      <td>0</td>\n",
       "      <td>0</td>\n",
       "      <td>0</td>\n",
       "    </tr>\n",
       "    <tr>\n",
       "      <th>2</th>\n",
       "      <td>2</td>\n",
       "      <td>0</td>\n",
       "      <td>1</td>\n",
       "      <td>0</td>\n",
       "      <td>0</td>\n",
       "      <td>0</td>\n",
       "    </tr>\n",
       "    <tr>\n",
       "      <th>3</th>\n",
       "      <td>2</td>\n",
       "      <td>0</td>\n",
       "      <td>1</td>\n",
       "      <td>0</td>\n",
       "      <td>0</td>\n",
       "      <td>0</td>\n",
       "    </tr>\n",
       "    <tr>\n",
       "      <th>4</th>\n",
       "      <td>3</td>\n",
       "      <td>0</td>\n",
       "      <td>0</td>\n",
       "      <td>1</td>\n",
       "      <td>0</td>\n",
       "      <td>0</td>\n",
       "    </tr>\n",
       "    <tr>\n",
       "      <th>5</th>\n",
       "      <td>1</td>\n",
       "      <td>1</td>\n",
       "      <td>0</td>\n",
       "      <td>0</td>\n",
       "      <td>0</td>\n",
       "      <td>0</td>\n",
       "    </tr>\n",
       "    <tr>\n",
       "      <th>6</th>\n",
       "      <td>3</td>\n",
       "      <td>0</td>\n",
       "      <td>0</td>\n",
       "      <td>1</td>\n",
       "      <td>0</td>\n",
       "      <td>0</td>\n",
       "    </tr>\n",
       "    <tr>\n",
       "      <th>7</th>\n",
       "      <td>2</td>\n",
       "      <td>0</td>\n",
       "      <td>1</td>\n",
       "      <td>0</td>\n",
       "      <td>0</td>\n",
       "      <td>0</td>\n",
       "    </tr>\n",
       "    <tr>\n",
       "      <th>8</th>\n",
       "      <td>3</td>\n",
       "      <td>0</td>\n",
       "      <td>0</td>\n",
       "      <td>1</td>\n",
       "      <td>0</td>\n",
       "      <td>0</td>\n",
       "    </tr>\n",
       "    <tr>\n",
       "      <th>9</th>\n",
       "      <td>1</td>\n",
       "      <td>1</td>\n",
       "      <td>0</td>\n",
       "      <td>0</td>\n",
       "      <td>0</td>\n",
       "      <td>0</td>\n",
       "    </tr>\n",
       "  </tbody>\n",
       "</table>\n",
       "</div>"
      ],
      "text/plain": [
       "   z  x1  x2  x3  x4  x5\n",
       "0  3   0   0   1   0   0\n",
       "1  2   0   1   0   0   0\n",
       "2  2   0   1   0   0   0\n",
       "3  2   0   1   0   0   0\n",
       "4  3   0   0   1   0   0\n",
       "5  1   1   0   0   0   0\n",
       "6  3   0   0   1   0   0\n",
       "7  2   0   1   0   0   0\n",
       "8  3   0   0   1   0   0\n",
       "9  1   1   0   0   0   0"
      ]
     },
     "execution_count": 7,
     "metadata": {},
     "output_type": "execute_result"
    }
   ],
   "source": [
    "#Perform a data generating process of y = B0 + B1 * x + u\n",
    "birthday = '08182001'\n",
    "rng = np.random.RandomState(int(birthday))\n",
    "\n",
    "#coefficients\n",
    "b1=int(birthday[0])\n",
    "b2=int(birthday[1])\n",
    "b3=int(birthday[2])\n",
    "b4=int(birthday[3])\n",
    "b5=int(birthday[4])\n",
    "\n",
    "u = rng.normal(loc=0,scale=1,size=1000000)\n",
    "\n",
    "\n",
    "#constructing z\n",
    "z = np.random.randint(1,6,size = 1000000)\n",
    "\n",
    "x1 = (z==1)*1\n",
    "x2 = (z==2)*1\n",
    "x3 = (z==3)*1\n",
    "x4 = (z==4)*1\n",
    "x5 = (z==5)*1\n",
    "\n",
    "\n",
    "#data variable is in a data frame\n",
    "\n",
    "pd.DataFrame({'z': z, 'x1':x1, 'x2':x2, 'x3':x3,'x4':x4,'x5':x5}).head(10)"
   ]
  },
  {
   "cell_type": "code",
   "execution_count": 8,
   "id": "f3bd7b42",
   "metadata": {},
   "outputs": [],
   "source": [
    "d = pd.DataFrame({'x1':x1, 'x2':x2, 'x3':x3,'x4':x4,'x5':x5, 'u':u})\n",
    "\n",
    "#DGP for y\n",
    "y = 2.5 + b1*d['x1'] + b2*d['x2'] + b3*d['x3']+ b4*d['x4'] + b5*d['x5'] +u\n",
    "d['y'] = y\n",
    "\n",
    "#I will use x1 as the reference group and use x2 to visualize the sampling distribution \n"
   ]
  },
  {
   "cell_type": "code",
   "execution_count": 9,
   "id": "1e60c428",
   "metadata": {},
   "outputs": [],
   "source": [
    "beta2 = []\n",
    "\n",
    "#omitting x1 for dummy\n",
    "for i in range(1000):\n",
    "    res1 = d.sample(n=1000, replace = False, random_state = i)\n",
    "    ols = smf.ols('y ~ x2 +x3 +x4 +x5', data = res1).fit()\n",
    "    beta2.append(ols.params[1])"
   ]
  },
  {
   "cell_type": "code",
   "execution_count": 17,
   "id": "28fa7466",
   "metadata": {},
   "outputs": [
    {
     "data": {
      "text/plain": [
       "<AxesSubplot:xlabel='beta2', ylabel='Count'>"
      ]
     },
     "execution_count": 17,
     "metadata": {},
     "output_type": "execute_result"
    },
    {
     "data": {
      "image/png": "[encoded data removed]",
      "text/plain": [
       "<Figure size 432x288 with 1 Axes>"
      ]
     },
     "metadata": {
      "needs_background": "light"
     },
     "output_type": "display_data"
    }
   ],
   "source": [
    "df2 = pd.DataFrame({'beta2':beta2})\n",
    "sns.histplot(data = df2, x = 'beta2')"
   ]
  },
  {
   "cell_type": "markdown",
   "id": "5c36da1d",
   "metadata": {},
   "source": [
    "The sampling distribution shows that the median value for the sample beta2s is ~8. "
   ]
  }
 ],
 "metadata": {
  "kernelspec": {
   "display_name": "Python 3 (ipykernel)",
   "language": "python",
   "name": "python3"
  },
  "language_info": {
   "codemirror_mode": {
    "name": "ipython",
    "version": 3
   },
   "file_extension": ".py",
   "mimetype": "text/x-python",
   "name": "python",
   "nbconvert_exporter": "python",
   "pygments_lexer": "ipython3",
   "version": "3.9.12"
  }
 },
 "nbformat": 4,
 "nbformat_minor": 5
}
