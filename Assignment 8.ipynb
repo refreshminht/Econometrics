{
 "cells": [
  {
   "cell_type": "code",
   "execution_count": 22,
   "id": "cdd317e0",
   "metadata": {},
   "outputs": [],
   "source": [
    "# Script name: Assignment 8\n",
    "# Purpose of script: Simulate data with correlated X's in MLRM, draw 1,000 random samples, and generate sample estimates, show sampling distribution of the estimated parameter, and show bias in the estimates.*\n",
    "# Author: Minh-Thy Tyler\n",
    "# Date Created: \n",
    "# 10/22/2022\n",
    "# Notes: N/A\n",
    "# ---------------------------\n",
    "\n",
    "# Packages\n",
    "import wooldridge as woo\n",
    "import numpy as np\n",
    "import pandas as pd\n",
    "from scipy import stats\n",
    "import matplotlib.pyplot as plt\n",
    "import seaborn as sns\n",
    "from matplotlib import style\n",
    "from statistics import mean\n",
    "style.use('seaborn-darkgrid')\n",
    "from sklearn.linear_model import LinearRegression\n",
    "import statsmodels.formula.api as smf\n",
    "import os\n",
    "# Set up working directory\n",
    "directory_path = '/Users/minh-thytyler/Desktop/2022-2023/ECON 320/HW' # use / instead of \\ or use \\ but insert r before (for instance: r'C:\\your-directory-path')\n",
    "os.chdir(directory_path)"
   ]
  },
  {
   "cell_type": "code",
   "execution_count": 1,
   "id": "0ccef2db",
   "metadata": {},
   "outputs": [
    {
     "ename": "NameError",
     "evalue": "name 'np' is not defined",
     "output_type": "error",
     "traceback": [
      "\u001b[0;31m---------------------------------------------------------------------------\u001b[0m",
      "\u001b[0;31mNameError\u001b[0m                                 Traceback (most recent call last)",
      "Input \u001b[0;32mIn [1]\u001b[0m, in \u001b[0;36m<cell line: 6>\u001b[0;34m()\u001b[0m\n\u001b[1;32m      1\u001b[0m \u001b[38;5;66;03m# Set up the Data Generating Process\u001b[39;00m\n\u001b[1;32m      2\u001b[0m \n\u001b[1;32m      3\u001b[0m \n\u001b[1;32m      4\u001b[0m \u001b[38;5;66;03m# Set NumPy Seed using birthday\u001b[39;00m\n\u001b[1;32m      5\u001b[0m birthday \u001b[38;5;241m=\u001b[39m \u001b[38;5;124m'\u001b[39m\u001b[38;5;124m08182001\u001b[39m\u001b[38;5;124m'\u001b[39m\n\u001b[0;32m----> 6\u001b[0m rng \u001b[38;5;241m=\u001b[39m \u001b[43mnp\u001b[49m\u001b[38;5;241m.\u001b[39mrandom\u001b[38;5;241m.\u001b[39mRandomState(\u001b[38;5;28mint\u001b[39m(birthday))\n\u001b[1;32m      8\u001b[0m \u001b[38;5;66;03m#Declare your betas\u001b[39;00m\n\u001b[1;32m      9\u001b[0m beta0\u001b[38;5;241m=\u001b[39m \u001b[38;5;241m9\u001b[39m\n",
      "\u001b[0;31mNameError\u001b[0m: name 'np' is not defined"
     ]
    }
   ],
   "source": [
    "# Set up the Data Generating Process\n",
    "\n",
    "\n",
    "# Set NumPy Seed using birthday\n",
    "birthday = '08182001'\n",
    "rng = np.random.RandomState(int(birthday))\n",
    "\n",
    "#Declare your betas\n",
    "beta0= 9\n",
    "beta1= 8\n",
    "beta2= 2\n",
    "\n",
    "#Declare alphas\n",
    "alpha0 = 2\n",
    "alpha1 = .8\n",
    "\n",
    "# Calculate y, x and u over 1,000,000 values\n",
    "x1 = rng.normal(loc = 10, scale=8**.5, size = 1000000)\n",
    "u = rng.normal(loc = 0, scale= 1**.5, size = 1000000)\n",
    "ui = rng.normal(loc = 0, scale = 1**.5, size = 1000000)\n",
    "x2 = alpha0 + alpha1 * x1 + ui\n",
    "y = beta0 + beta1 * x1 + beta2*x2+ u\n",
    "\n",
    "# Store in Pandas DataFrame\n",
    "population_data = pd.DataFrame({'y' : y, 'x1' : x1, 'x2':x2, 'u':u })\n",
    "population_data.head()"
   ]
  },
  {
   "cell_type": "markdown",
   "id": "9eca2647",
   "metadata": {},
   "source": [
    "**Part a**"
   ]
  },
  {
   "cell_type": "code",
   "execution_count": 12,
   "id": "f3bba48c",
   "metadata": {},
   "outputs": [
    {
     "name": "stdout",
     "output_type": "stream",
     "text": [
      "6.416340133820085\n"
     ]
    }
   ],
   "source": [
    "#using covariance command to find covariance between x1 and x2\n",
    "covX1X2 = np.cov(x1,x2)[1,0]\n",
    "print(covX1X2)"
   ]
  },
  {
   "cell_type": "markdown",
   "id": "e967dc5f",
   "metadata": {},
   "source": [
    "**Part b**"
   ]
  },
  {
   "cell_type": "code",
   "execution_count": 13,
   "id": "98bc1525",
   "metadata": {},
   "outputs": [
    {
     "name": "stdout",
     "output_type": "stream",
     "text": [
      "8312.293606537514\n"
     ]
    }
   ],
   "source": [
    "# Get a sample of 1000 observations\n",
    "sample_dfb = population_data.sample(n= 1000, random_state=int(2052001))\n",
    "\n",
    "#Formula for total sum of squares\n",
    "TSSx1 = ((sample_dfb['x1'] - sample_dfb['x1'].mean())**2).sum()\n",
    "print(TSSx1)"
   ]
  },
  {
   "cell_type": "markdown",
   "id": "943280e2",
   "metadata": {},
   "source": [
    "**Part c**"
   ]
  },
  {
   "cell_type": "code",
   "execution_count": 14,
   "id": "229deb18",
   "metadata": {},
   "outputs": [
    {
     "data": {
      "text/html": [
       "<table class=\"simpletable\">\n",
       "<caption>OLS Regression Results</caption>\n",
       "<tr>\n",
       "  <th>Dep. Variable:</th>            <td>y</td>        <th>  R-squared:         </th> <td>   0.994</td> \n",
       "</tr>\n",
       "<tr>\n",
       "  <th>Model:</th>                   <td>OLS</td>       <th>  Adj. R-squared:    </th> <td>   0.994</td> \n",
       "</tr>\n",
       "<tr>\n",
       "  <th>Method:</th>             <td>Least Squares</td>  <th>  F-statistic:       </th> <td>1.596e+05</td>\n",
       "</tr>\n",
       "<tr>\n",
       "  <th>Date:</th>             <td>Sun, 23 Oct 2022</td> <th>  Prob (F-statistic):</th>  <td>  0.00</td>  \n",
       "</tr>\n",
       "<tr>\n",
       "  <th>Time:</th>                 <td>20:48:10</td>     <th>  Log-Likelihood:    </th> <td> -2200.1</td> \n",
       "</tr>\n",
       "<tr>\n",
       "  <th>No. Observations:</th>      <td>  1000</td>      <th>  AIC:               </th> <td>   4404.</td> \n",
       "</tr>\n",
       "<tr>\n",
       "  <th>Df Residuals:</th>          <td>   998</td>      <th>  BIC:               </th> <td>   4414.</td> \n",
       "</tr>\n",
       "<tr>\n",
       "  <th>Df Model:</th>              <td>     1</td>      <th>                     </th>     <td> </td>    \n",
       "</tr>\n",
       "<tr>\n",
       "  <th>Covariance Type:</th>      <td>nonrobust</td>    <th>                     </th>     <td> </td>    \n",
       "</tr>\n",
       "</table>\n",
       "<table class=\"simpletable\">\n",
       "<tr>\n",
       "      <td></td>         <th>coef</th>     <th>std err</th>      <th>t</th>      <th>P>|t|</th>  <th>[0.025</th>    <th>0.975]</th>  \n",
       "</tr>\n",
       "<tr>\n",
       "  <th>Intercept</th> <td>   13.1002</td> <td>    0.247</td> <td>   52.946</td> <td> 0.000</td> <td>   12.615</td> <td>   13.586</td>\n",
       "</tr>\n",
       "<tr>\n",
       "  <th>x1</th>        <td>    9.5784</td> <td>    0.024</td> <td>  399.441</td> <td> 0.000</td> <td>    9.531</td> <td>    9.625</td>\n",
       "</tr>\n",
       "</table>\n",
       "<table class=\"simpletable\">\n",
       "<tr>\n",
       "  <th>Omnibus:</th>       <td> 1.230</td> <th>  Durbin-Watson:     </th> <td>   2.032</td>\n",
       "</tr>\n",
       "<tr>\n",
       "  <th>Prob(Omnibus):</th> <td> 0.541</td> <th>  Jarque-Bera (JB):  </th> <td>   1.308</td>\n",
       "</tr>\n",
       "<tr>\n",
       "  <th>Skew:</th>          <td>-0.069</td> <th>  Prob(JB):          </th> <td>   0.520</td>\n",
       "</tr>\n",
       "<tr>\n",
       "  <th>Kurtosis:</th>      <td> 2.888</td> <th>  Cond. No.          </th> <td>    37.2</td>\n",
       "</tr>\n",
       "</table><br/><br/>Notes:<br/>[1] Standard Errors assume that the covariance matrix of the errors is correctly specified."
      ],
      "text/plain": [
       "<class 'statsmodels.iolib.summary.Summary'>\n",
       "\"\"\"\n",
       "                            OLS Regression Results                            \n",
       "==============================================================================\n",
       "Dep. Variable:                      y   R-squared:                       0.994\n",
       "Model:                            OLS   Adj. R-squared:                  0.994\n",
       "Method:                 Least Squares   F-statistic:                 1.596e+05\n",
       "Date:                Sun, 23 Oct 2022   Prob (F-statistic):               0.00\n",
       "Time:                        20:48:10   Log-Likelihood:                -2200.1\n",
       "No. Observations:                1000   AIC:                             4404.\n",
       "Df Residuals:                     998   BIC:                             4414.\n",
       "Df Model:                           1                                         \n",
       "Covariance Type:            nonrobust                                         \n",
       "==============================================================================\n",
       "                 coef    std err          t      P>|t|      [0.025      0.975]\n",
       "------------------------------------------------------------------------------\n",
       "Intercept     13.1002      0.247     52.946      0.000      12.615      13.586\n",
       "x1             9.5784      0.024    399.441      0.000       9.531       9.625\n",
       "==============================================================================\n",
       "Omnibus:                        1.230   Durbin-Watson:                   2.032\n",
       "Prob(Omnibus):                  0.541   Jarque-Bera (JB):                1.308\n",
       "Skew:                          -0.069   Prob(JB):                        0.520\n",
       "Kurtosis:                       2.888   Cond. No.                         37.2\n",
       "==============================================================================\n",
       "\n",
       "Notes:\n",
       "[1] Standard Errors assume that the covariance matrix of the errors is correctly specified.\n",
       "\"\"\""
      ]
     },
     "execution_count": 14,
     "metadata": {},
     "output_type": "execute_result"
    }
   ],
   "source": [
    "# Get another sample of 1000 observations\n",
    "sample_df = population_data.sample(n= 1000, random_state=int(2052001))\n",
    "\n",
    "#estimating from underspecified sample regression function\n",
    "undermod = smf.ols(formula='y ~ x1', data=sample_dfb)\n",
    "underres = undermod.fit()\n",
    "\n",
    "underres.summary()"
   ]
  },
  {
   "cell_type": "code",
   "execution_count": 15,
   "id": "c601f79e",
   "metadata": {},
   "outputs": [
    {
     "data": {
      "text/plain": [
       "Intercept    13.100185\n",
       "x1            9.578370\n",
       "dtype: float64"
      ]
     },
     "execution_count": 15,
     "metadata": {},
     "output_type": "execute_result"
    }
   ],
   "source": [
    "#Estimating the parameters for beta0 and beta1\n",
    "underres.params"
   ]
  },
  {
   "cell_type": "markdown",
   "id": "b8459e66",
   "metadata": {},
   "source": [
    "**Part d**"
   ]
  },
  {
   "cell_type": "markdown",
   "id": "571175c7",
   "metadata": {},
   "source": [
    "$\\tilde{\\beta_1}$ means that $\\tilde{\\beta_1}$ comes from an underspecified model (Hence, the '~' instead of '^'). $\\tilde{\\beta_1}$ is 9.57. $\\tilde{\\beta_1}$ is much higher (higher by +1.57) than the actual beta1 parameter which is 8. This is because we omitted a variable (beta2) that belongs to the population model, and we are estimating beta1 from an underspecified sample regression function. We ran the the regression of y only on x1 and not x2, so we did not get an unbiased estimator of beta1. "
   ]
  },
  {
   "cell_type": "markdown",
   "id": "e4ff43b1",
   "metadata": {},
   "source": [
    "**Part e**"
   ]
  },
  {
   "cell_type": "code",
   "execution_count": 16,
   "id": "dd593f00",
   "metadata": {},
   "outputs": [
    {
     "data": {
      "text/html": [
       "<table class=\"simpletable\">\n",
       "<caption>OLS Regression Results</caption>\n",
       "<tr>\n",
       "  <th>Dep. Variable:</th>            <td>y</td>        <th>  R-squared:         </th> <td>   0.999</td> \n",
       "</tr>\n",
       "<tr>\n",
       "  <th>Model:</th>                   <td>OLS</td>       <th>  Adj. R-squared:    </th> <td>   0.999</td> \n",
       "</tr>\n",
       "<tr>\n",
       "  <th>Method:</th>             <td>Least Squares</td>  <th>  F-statistic:       </th> <td>3.572e+05</td>\n",
       "</tr>\n",
       "<tr>\n",
       "  <th>Date:</th>             <td>Sun, 23 Oct 2022</td> <th>  Prob (F-statistic):</th>  <td>  0.00</td>  \n",
       "</tr>\n",
       "<tr>\n",
       "  <th>Time:</th>                 <td>20:48:15</td>     <th>  Log-Likelihood:    </th> <td> -1452.5</td> \n",
       "</tr>\n",
       "<tr>\n",
       "  <th>No. Observations:</th>      <td>  1000</td>      <th>  AIC:               </th> <td>   2911.</td> \n",
       "</tr>\n",
       "<tr>\n",
       "  <th>Df Residuals:</th>          <td>   997</td>      <th>  BIC:               </th> <td>   2926.</td> \n",
       "</tr>\n",
       "<tr>\n",
       "  <th>Df Model:</th>              <td>     2</td>      <th>                     </th>     <td> </td>    \n",
       "</tr>\n",
       "<tr>\n",
       "  <th>Covariance Type:</th>      <td>nonrobust</td>    <th>                     </th>     <td> </td>    \n",
       "</tr>\n",
       "</table>\n",
       "<table class=\"simpletable\">\n",
       "<tr>\n",
       "      <td></td>         <th>coef</th>     <th>std err</th>      <th>t</th>      <th>P>|t|</th>  <th>[0.025</th>    <th>0.975]</th>  \n",
       "</tr>\n",
       "<tr>\n",
       "  <th>Intercept</th> <td>    9.2631</td> <td>    0.134</td> <td>   69.029</td> <td> 0.000</td> <td>    9.000</td> <td>    9.526</td>\n",
       "</tr>\n",
       "<tr>\n",
       "  <th>x1</th>        <td>    8.0129</td> <td>    0.029</td> <td>  276.572</td> <td> 0.000</td> <td>    7.956</td> <td>    8.070</td>\n",
       "</tr>\n",
       "<tr>\n",
       "  <th>x2</th>        <td>    1.9549</td> <td>    0.033</td> <td>   58.735</td> <td> 0.000</td> <td>    1.890</td> <td>    2.020</td>\n",
       "</tr>\n",
       "</table>\n",
       "<table class=\"simpletable\">\n",
       "<tr>\n",
       "  <th>Omnibus:</th>       <td> 0.905</td> <th>  Durbin-Watson:     </th> <td>   2.017</td>\n",
       "</tr>\n",
       "<tr>\n",
       "  <th>Prob(Omnibus):</th> <td> 0.636</td> <th>  Jarque-Bera (JB):  </th> <td>   0.780</td>\n",
       "</tr>\n",
       "<tr>\n",
       "  <th>Skew:</th>          <td>-0.011</td> <th>  Prob(JB):          </th> <td>   0.677</td>\n",
       "</tr>\n",
       "<tr>\n",
       "  <th>Kurtosis:</th>      <td> 3.135</td> <th>  Cond. No.          </th> <td>    60.0</td>\n",
       "</tr>\n",
       "</table><br/><br/>Notes:<br/>[1] Standard Errors assume that the covariance matrix of the errors is correctly specified."
      ],
      "text/plain": [
       "<class 'statsmodels.iolib.summary.Summary'>\n",
       "\"\"\"\n",
       "                            OLS Regression Results                            \n",
       "==============================================================================\n",
       "Dep. Variable:                      y   R-squared:                       0.999\n",
       "Model:                            OLS   Adj. R-squared:                  0.999\n",
       "Method:                 Least Squares   F-statistic:                 3.572e+05\n",
       "Date:                Sun, 23 Oct 2022   Prob (F-statistic):               0.00\n",
       "Time:                        20:48:15   Log-Likelihood:                -1452.5\n",
       "No. Observations:                1000   AIC:                             2911.\n",
       "Df Residuals:                     997   BIC:                             2926.\n",
       "Df Model:                           2                                         \n",
       "Covariance Type:            nonrobust                                         \n",
       "==============================================================================\n",
       "                 coef    std err          t      P>|t|      [0.025      0.975]\n",
       "------------------------------------------------------------------------------\n",
       "Intercept      9.2631      0.134     69.029      0.000       9.000       9.526\n",
       "x1             8.0129      0.029    276.572      0.000       7.956       8.070\n",
       "x2             1.9549      0.033     58.735      0.000       1.890       2.020\n",
       "==============================================================================\n",
       "Omnibus:                        0.905   Durbin-Watson:                   2.017\n",
       "Prob(Omnibus):                  0.636   Jarque-Bera (JB):                0.780\n",
       "Skew:                          -0.011   Prob(JB):                        0.677\n",
       "Kurtosis:                       3.135   Cond. No.                         60.0\n",
       "==============================================================================\n",
       "\n",
       "Notes:\n",
       "[1] Standard Errors assume that the covariance matrix of the errors is correctly specified.\n",
       "\"\"\""
      ]
     },
     "execution_count": 16,
     "metadata": {},
     "output_type": "execute_result"
    }
   ],
   "source": [
    "#Estimating parameters of a properly specified sample regression function\n",
    "mod = smf.ols(formula='y ~ x1+x2', data=sample_dfb)\n",
    "res = mod.fit()\n",
    "\n",
    "res.summary()"
   ]
  },
  {
   "cell_type": "code",
   "execution_count": 17,
   "id": "8faa51ee",
   "metadata": {},
   "outputs": [
    {
     "data": {
      "text/plain": [
       "Intercept    9.263095\n",
       "x1           8.012937\n",
       "x2           1.954921\n",
       "dtype: float64"
      ]
     },
     "execution_count": 17,
     "metadata": {},
     "output_type": "execute_result"
    }
   ],
   "source": [
    "#Estimating the parameters for beta0, beta1, and beta2\n",
    "res.params"
   ]
  },
  {
   "cell_type": "markdown",
   "id": "755e8780",
   "metadata": {},
   "source": [
    "$\\hat{\\beta_1}$ gives a much more accurate estimate than $\\tilde{\\beta_1}$. $\\hat{\\beta_1}$ is 8.01, which is closer to  $\\beta_1$ which is 8 (compared to $\\tilde{\\beta_1}$, which is 9.57). This is because we are estimating beta1 from a properly specified sample regression function, which we want to do to get a beta1 estimator that is unbiased.\n"
   ]
  },
  {
   "cell_type": "markdown",
   "id": "7f817de6",
   "metadata": {},
   "source": [
    "**Part f** "
   ]
  },
  {
   "cell_type": "code",
   "execution_count": 19,
   "id": "76f4df02",
   "metadata": {},
   "outputs": [
    {
     "data": {
      "text/html": [
       "<div>\n",
       "<style scoped>\n",
       "    .dataframe tbody tr th:only-of-type {\n",
       "        vertical-align: middle;\n",
       "    }\n",
       "\n",
       "    .dataframe tbody tr th {\n",
       "        vertical-align: top;\n",
       "    }\n",
       "\n",
       "    .dataframe thead th {\n",
       "        text-align: right;\n",
       "    }\n",
       "</style>\n",
       "<table border=\"1\" class=\"dataframe\">\n",
       "  <thead>\n",
       "    <tr style=\"text-align: right;\">\n",
       "      <th></th>\n",
       "      <th>beta1</th>\n",
       "    </tr>\n",
       "  </thead>\n",
       "  <tbody>\n",
       "    <tr>\n",
       "      <th>0</th>\n",
       "      <td>9.608807</td>\n",
       "    </tr>\n",
       "    <tr>\n",
       "      <th>1</th>\n",
       "      <td>9.616512</td>\n",
       "    </tr>\n",
       "    <tr>\n",
       "      <th>2</th>\n",
       "      <td>9.601074</td>\n",
       "    </tr>\n",
       "    <tr>\n",
       "      <th>3</th>\n",
       "      <td>9.613835</td>\n",
       "    </tr>\n",
       "    <tr>\n",
       "      <th>4</th>\n",
       "      <td>9.590304</td>\n",
       "    </tr>\n",
       "  </tbody>\n",
       "</table>\n",
       "</div>"
      ],
      "text/plain": [
       "      beta1\n",
       "0  9.608807\n",
       "1  9.616512\n",
       "2  9.601074\n",
       "3  9.613835\n",
       "4  9.590304"
      ]
     },
     "execution_count": 19,
     "metadata": {},
     "output_type": "execute_result"
    }
   ],
   "source": [
    "#Repeating step c and step b 1000 times\n",
    "beta1tts_ar = []\n",
    "beta1_ar = []\n",
    "for i in range(1000):\n",
    "    sample_dff = population_data.sample(n = 1000, random_state=i)\n",
    "    TSSx1s = ((sample_dff['x1'] - sample_dff['x1'].mean())**2).sum()\n",
    "    regf = smf.ols(formula = 'y ~ x1', data = sample_dff).fit()\n",
    "    beta1tts_ar.append(TSSx1s)\n",
    "    beta1_ar.append(regf.params[1])\n",
    "\n",
    "reg_coeff_df = pd.DataFrame({'beta1': beta1_ar})\n",
    "reg_coeff_df.head()"
   ]
  },
  {
   "cell_type": "markdown",
   "id": "5b7920a7",
   "metadata": {},
   "source": [
    "**Part g**"
   ]
  },
  {
   "cell_type": "code",
   "execution_count": 20,
   "id": "8929551f",
   "metadata": {},
   "outputs": [
    {
     "data": {
      "text/plain": [
       "Text(0.5, 1.0, 'Fig 1: Sampling Distribution of Beta 1~')"
      ]
     },
     "execution_count": 20,
     "metadata": {},
     "output_type": "execute_result"
    },
    {
     "data": {
      "image/png": "[encoded data removed]",
      "text/plain": [
       "<Figure size 1440x432 with 1 Axes>"
      ]
     },
     "metadata": {},
     "output_type": "display_data"
    }
   ],
   "source": [
    "plt.figure(figsize= (20,6))\n",
    "\n",
    "#Distribution of Beta1\n",
    "plt.subplot(1,2,1)\n",
    "plt.hist(reg_coeff_df['beta1'], alpha = .6, color = 'Blue', bins = 20)\n",
    "plt.xlabel(\"Beta 1~\", fontsize = 14)\n",
    "plt.ylabel(\"Frequencies out of 1000\", fontsize = 14)\n",
    "plt.title(\"Fig 1: Sampling Distribution of Beta 1~\", fontsize = 16)\n"
   ]
  },
  {
   "cell_type": "markdown",
   "id": "6e6afe6a",
   "metadata": {},
   "source": [
    "**What is the mean of the distribution of $\\tilde{\\beta_1}$ and what is its difference from $\\beta_1$?**"
   ]
  },
  {
   "cell_type": "code",
   "execution_count": 25,
   "id": "f46326b5",
   "metadata": {},
   "outputs": [
    {
     "name": "stdout",
     "output_type": "stream",
     "text": [
      "Mean: 9.599493311702947\n"
     ]
    }
   ],
   "source": [
    "print('Mean:', np.mean(beta1_ar))"
   ]
  },
  {
   "cell_type": "code",
   "execution_count": 27,
   "id": "1c8a3f46",
   "metadata": {},
   "outputs": [
    {
     "name": "stdout",
     "output_type": "stream",
     "text": [
      "Difference: 1.5994933117029468\n"
     ]
    }
   ],
   "source": [
    "print('Difference:', np.mean(beta1_ar)-8)"
   ]
  },
  {
   "cell_type": "markdown",
   "id": "5a28921c",
   "metadata": {},
   "source": [
    "**Part h**"
   ]
  },
  {
   "cell_type": "markdown",
   "id": "4034401d",
   "metadata": {},
   "source": [
    "I would expect to see a greater covariance and total sum of squares of x1 for $\\tilde{\\beta_1}$ than $\\hat{\\beta_1}$. This is because $\\tilde{\\beta_1}$ is from an underspecified sample regression function, making it a biased estimator. I would also expect that $\\tilde{\\beta_1}$ would have a closer mean to the actual B1."
   ]
  },
  {
   "cell_type": "code",
   "execution_count": null,
   "id": "76bacc4d",
   "metadata": {},
   "outputs": [],
   "source": []
  }
 ],
 "metadata": {
  "kernelspec": {
   "display_name": "Python 3 (ipykernel)",
   "language": "python",
   "name": "python3"
  },
  "language_info": {
   "codemirror_mode": {
    "name": "ipython",
    "version": 3
   },
   "file_extension": ".py",
   "mimetype": "text/x-python",
   "name": "python",
   "nbconvert_exporter": "python",
   "pygments_lexer": "ipython3",
   "version": "3.9.12"
  }
 },
 "nbformat": 4,
 "nbformat_minor": 5
}
