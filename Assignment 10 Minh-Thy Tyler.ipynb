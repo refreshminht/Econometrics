{
 "cells": [
  {
   "cell_type": "code",
   "execution_count": 10,
   "id": "5c49ea2e",
   "metadata": {},
   "outputs": [],
   "source": [
    "# Script name: Assignment 10\n",
    "# Purpose of script: Assignment 10\n",
    "# Author: Minh-Thy Tyler\n",
    "# Date Created: \n",
    "# 11/17/2022\n",
    "# Notes: N/A\n",
    "# ---------------------------\n",
    "\n",
    "\n",
    "import numpy as np\n",
    "import pandas as pd\n",
    "import os\n",
    "import random\n",
    "import matplotlib.pyplot as plt\n",
    "import statsmodels.formula.api as smf\n",
    "from scipy import stats\n",
    "\n",
    "# Set up working directory\n",
    "directory_path = '/Users/minh-thytyler/Desktop/2022-2023/ECON 320/HW' # use / instead of \\ or use \\ but insert r before (for instance: r'C:\\your-directory-path')\n",
    "os.chdir(directory_path)"
   ]
  },
  {
   "cell_type": "markdown",
   "id": "e47244c2",
   "metadata": {},
   "source": [
    "## Part 1"
   ]
  },
  {
   "cell_type": "code",
   "execution_count": 11,
   "id": "4d231a24",
   "metadata": {},
   "outputs": [
    {
     "data": {
      "text/html": [
       "<div>\n",
       "<style scoped>\n",
       "    .dataframe tbody tr th:only-of-type {\n",
       "        vertical-align: middle;\n",
       "    }\n",
       "\n",
       "    .dataframe tbody tr th {\n",
       "        vertical-align: top;\n",
       "    }\n",
       "\n",
       "    .dataframe thead th {\n",
       "        text-align: right;\n",
       "    }\n",
       "</style>\n",
       "<table border=\"1\" class=\"dataframe\">\n",
       "  <thead>\n",
       "    <tr style=\"text-align: right;\">\n",
       "      <th></th>\n",
       "      <th>y</th>\n",
       "      <th>x1</th>\n",
       "      <th>x2</th>\n",
       "      <th>u</th>\n",
       "    </tr>\n",
       "  </thead>\n",
       "  <tbody>\n",
       "    <tr>\n",
       "      <th>0</th>\n",
       "      <td>28.797262</td>\n",
       "      <td>12.655178</td>\n",
       "      <td>10.384526</td>\n",
       "      <td>-0.971789</td>\n",
       "    </tr>\n",
       "    <tr>\n",
       "      <th>1</th>\n",
       "      <td>27.604789</td>\n",
       "      <td>8.227826</td>\n",
       "      <td>9.289736</td>\n",
       "      <td>0.025316</td>\n",
       "    </tr>\n",
       "    <tr>\n",
       "      <th>2</th>\n",
       "      <td>25.961160</td>\n",
       "      <td>9.531533</td>\n",
       "      <td>8.608115</td>\n",
       "      <td>-0.255070</td>\n",
       "    </tr>\n",
       "    <tr>\n",
       "      <th>3</th>\n",
       "      <td>29.100393</td>\n",
       "      <td>10.820223</td>\n",
       "      <td>10.324951</td>\n",
       "      <td>-0.549509</td>\n",
       "    </tr>\n",
       "    <tr>\n",
       "      <th>4</th>\n",
       "      <td>30.444764</td>\n",
       "      <td>11.707178</td>\n",
       "      <td>10.230329</td>\n",
       "      <td>0.984107</td>\n",
       "    </tr>\n",
       "  </tbody>\n",
       "</table>\n",
       "</div>"
      ],
      "text/plain": [
       "           y         x1         x2         u\n",
       "0  28.797262  12.655178  10.384526 -0.971789\n",
       "1  27.604789   8.227826   9.289736  0.025316\n",
       "2  25.961160   9.531533   8.608115 -0.255070\n",
       "3  29.100393  10.820223  10.324951 -0.549509\n",
       "4  30.444764  11.707178  10.230329  0.984107"
      ]
     },
     "execution_count": 11,
     "metadata": {},
     "output_type": "execute_result"
    }
   ],
   "source": [
    "# Set up the Data Generating Process\n",
    "\n",
    "\n",
    "# Set NumPy Seed using birthday\n",
    "birthday = '08182001'\n",
    "rng = np.random.RandomState(int(birthday))\n",
    "\n",
    "#Declare your betas\n",
    "beta0= 9\n",
    "beta1= 0\n",
    "beta2= 2\n",
    "\n",
    "#Declare alphas\n",
    "alpha0 = 2\n",
    "alpha1 = .8\n",
    "\n",
    "# Calculate y, x and u over 1,000,000 values\n",
    "x1 = rng.normal(loc = 10, scale=8**.5, size = 1000000)\n",
    "u = rng.normal(loc = 0, scale= 1**.5, size = 1000000)\n",
    "ui = rng.normal(loc = 0, scale = 1**.5, size = 1000000)\n",
    "x2 = alpha0 + alpha1 * x1 + ui\n",
    "y = beta0 + beta1 * x1 + beta2*x2+ u\n",
    "\n",
    "# Store in Pandas DataFrame\n",
    "population_data = pd.DataFrame({'y' : y, 'x1' : x1, 'x2':x2, 'u':u })\n",
    "population_data.head()"
   ]
  },
  {
   "cell_type": "code",
   "execution_count": 12,
   "id": "41c11870",
   "metadata": {},
   "outputs": [],
   "source": [
    "# Get a sample of 1000 observations (hw did not specify sampling distribution size)\n",
    "sample_df = population_data.sample(n = 1000, replace= False, random_state = int(birthday))"
   ]
  },
  {
   "cell_type": "code",
   "execution_count": 16,
   "id": "5c3d269a",
   "metadata": {},
   "outputs": [],
   "source": [
    "#obtaining one beta 1 sample\n",
    "beta_1 = []\n",
    "beta_1se = []\n",
    "\n",
    "for i in range(1000):\n",
    "    sample_df = population_data.sample(n=1000, replace = False, random_state = i)\n",
    "    reg = smf.ols(formula = 'y~x1 +x2', data = sample_df).fit()\n",
    "    beta_1.append(reg.params[1])\n",
    "    beta_1se.append(reg.bse[1])"
   ]
  },
  {
   "cell_type": "code",
   "execution_count": 14,
   "id": "83c69894",
   "metadata": {},
   "outputs": [
    {
     "name": "stdout",
     "output_type": "stream",
     "text": [
      "the random beta 1 sample coefficient is:  0.007483248510857021\n",
      "the random standard error is:  0.029451081894930817\n",
      "tstat:  0.25409078476485625\n"
     ]
    }
   ],
   "source": [
    "#picking a random beta value and its standard error in generated array\n",
    "j = random.randint(0, len(beta_1)-1)\n",
    "\n",
    "random_coeff = beta_1[j]\n",
    "random_se = beta_1se[j]\n",
    "\n",
    "print('the random beta 1 sample coefficient is: ',random_coeff)\n",
    "print('the random standard error is: ',random_se)\n",
    "\n",
    "#t-stat\n",
    "tstat = (random_coeff)/random_se\n",
    "print('tstat: ',tstat)"
   ]
  },
  {
   "cell_type": "code",
   "execution_count": 15,
   "id": "78f8f3e0",
   "metadata": {},
   "outputs": [
    {
     "name": "stdout",
     "output_type": "stream",
     "text": [
      "The critical values at the 10% level of significance is: -1.6463834109167177 and 1.6463834109167177\n",
      "We fail to reject the null hypothesis that B1 = 0\n"
     ]
    }
   ],
   "source": [
    "#finding critical values\n",
    "\n",
    "cv_1 = stats.t.ppf(1-.1/2,(1000-2-1))*-1\n",
    "\n",
    "cv_2 = stats.t.ppf(1-.1/2,(1000-2-1))\n",
    "\n",
    "print('The critical values at the 10% level of significance is:', \n",
    "      cv_1, 'and', cv_2)\n",
    "\n",
    "\n",
    "#tstat test\n",
    "if tstat < cv_1 or tstat > cv_2:\n",
    "    print(\"We reject the null hypothesis that B1 = 0\")\n",
    "else: \n",
    "    print(\"We fail to reject the null hypothesis that B1 = 0\")"
   ]
  },
  {
   "cell_type": "markdown",
   "id": "2f75a1d0",
   "metadata": {},
   "source": [
    "## Part 2"
   ]
  },
  {
   "cell_type": "markdown",
   "id": "10f04d2a",
   "metadata": {},
   "source": [
    "**Part a**"
   ]
  },
  {
   "cell_type": "code",
   "execution_count": 85,
   "id": "e060018c",
   "metadata": {},
   "outputs": [
    {
     "data": {
      "text/html": [
       "<div>\n",
       "<style scoped>\n",
       "    .dataframe tbody tr th:only-of-type {\n",
       "        vertical-align: middle;\n",
       "    }\n",
       "\n",
       "    .dataframe tbody tr th {\n",
       "        vertical-align: top;\n",
       "    }\n",
       "\n",
       "    .dataframe thead th {\n",
       "        text-align: right;\n",
       "    }\n",
       "</style>\n",
       "<table border=\"1\" class=\"dataframe\">\n",
       "  <thead>\n",
       "    <tr style=\"text-align: right;\">\n",
       "      <th></th>\n",
       "      <th>y</th>\n",
       "      <th>x1</th>\n",
       "      <th>x2</th>\n",
       "      <th>u</th>\n",
       "    </tr>\n",
       "  </thead>\n",
       "  <tbody>\n",
       "    <tr>\n",
       "      <th>0</th>\n",
       "      <td>130.038685</td>\n",
       "      <td>12.655178</td>\n",
       "      <td>10.384526</td>\n",
       "      <td>-0.971789</td>\n",
       "    </tr>\n",
       "    <tr>\n",
       "      <th>1</th>\n",
       "      <td>93.427400</td>\n",
       "      <td>8.227826</td>\n",
       "      <td>9.289736</td>\n",
       "      <td>0.025316</td>\n",
       "    </tr>\n",
       "    <tr>\n",
       "      <th>2</th>\n",
       "      <td>102.213423</td>\n",
       "      <td>9.531533</td>\n",
       "      <td>8.608115</td>\n",
       "      <td>-0.255070</td>\n",
       "    </tr>\n",
       "    <tr>\n",
       "      <th>3</th>\n",
       "      <td>115.662179</td>\n",
       "      <td>10.820223</td>\n",
       "      <td>10.324951</td>\n",
       "      <td>-0.549509</td>\n",
       "    </tr>\n",
       "    <tr>\n",
       "      <th>4</th>\n",
       "      <td>124.102188</td>\n",
       "      <td>11.707178</td>\n",
       "      <td>10.230329</td>\n",
       "      <td>0.984107</td>\n",
       "    </tr>\n",
       "  </tbody>\n",
       "</table>\n",
       "</div>"
      ],
      "text/plain": [
       "            y         x1         x2         u\n",
       "0  130.038685  12.655178  10.384526 -0.971789\n",
       "1   93.427400   8.227826   9.289736  0.025316\n",
       "2  102.213423   9.531533   8.608115 -0.255070\n",
       "3  115.662179  10.820223  10.324951 -0.549509\n",
       "4  124.102188  11.707178  10.230329  0.984107"
      ]
     },
     "execution_count": 85,
     "metadata": {},
     "output_type": "execute_result"
    }
   ],
   "source": [
    "# Set up the Data Generating Process\n",
    "\n",
    "\n",
    "# Set NumPy Seed using birthday\n",
    "birthday = '08182001'\n",
    "rng = np.random.RandomState(int(birthday))\n",
    "\n",
    "#Declare your betas\n",
    "beta0= 9\n",
    "beta1= 8\n",
    "beta2= 2\n",
    "\n",
    "#Declare alphas\n",
    "alpha0 = 2\n",
    "alpha1 = .8\n",
    "\n",
    "# Calculate y, x and u over 1,000,000 values\n",
    "x1 = rng.normal(loc = 10, scale=8**.5, size = 1000000)\n",
    "u = rng.normal(loc = 0, scale= 1**.5, size = 1000000)\n",
    "ui = rng.normal(loc = 0, scale = 1**.5, size = 1000000)\n",
    "x2 = alpha0 + alpha1 * x1 + ui\n",
    "y = beta0 + beta1 * x1 + beta2*x2+ u\n",
    "\n",
    "# Store in Pandas DataFrame\n",
    "population_datab = pd.DataFrame({'y' : y, 'x1' : x1, 'x2':x2, 'u':u })\n",
    "population_datab.head()"
   ]
  },
  {
   "cell_type": "markdown",
   "id": "151e40bc",
   "metadata": {},
   "source": [
    "**Part b**"
   ]
  },
  {
   "cell_type": "code",
   "execution_count": 86,
   "id": "3323dbd2",
   "metadata": {},
   "outputs": [
    {
     "data": {
      "text/html": [
       "<table class=\"simpletable\">\n",
       "<caption>OLS Regression Results</caption>\n",
       "<tr>\n",
       "  <th>Dep. Variable:</th>            <td>y</td>        <th>  R-squared:         </th> <td>   0.999</td> \n",
       "</tr>\n",
       "<tr>\n",
       "  <th>Model:</th>                   <td>OLS</td>       <th>  Adj. R-squared:    </th> <td>   0.999</td> \n",
       "</tr>\n",
       "<tr>\n",
       "  <th>Method:</th>             <td>Least Squares</td>  <th>  F-statistic:       </th> <td>3.572e+05</td>\n",
       "</tr>\n",
       "<tr>\n",
       "  <th>Date:</th>             <td>Sun, 20 Nov 2022</td> <th>  Prob (F-statistic):</th>  <td>  0.00</td>  \n",
       "</tr>\n",
       "<tr>\n",
       "  <th>Time:</th>                 <td>14:03:16</td>     <th>  Log-Likelihood:    </th> <td> -1452.5</td> \n",
       "</tr>\n",
       "<tr>\n",
       "  <th>No. Observations:</th>      <td>  1000</td>      <th>  AIC:               </th> <td>   2911.</td> \n",
       "</tr>\n",
       "<tr>\n",
       "  <th>Df Residuals:</th>          <td>   997</td>      <th>  BIC:               </th> <td>   2926.</td> \n",
       "</tr>\n",
       "<tr>\n",
       "  <th>Df Model:</th>              <td>     2</td>      <th>                     </th>     <td> </td>    \n",
       "</tr>\n",
       "<tr>\n",
       "  <th>Covariance Type:</th>      <td>nonrobust</td>    <th>                     </th>     <td> </td>    \n",
       "</tr>\n",
       "</table>\n",
       "<table class=\"simpletable\">\n",
       "<tr>\n",
       "      <td></td>         <th>coef</th>     <th>std err</th>      <th>t</th>      <th>P>|t|</th>  <th>[0.025</th>    <th>0.975]</th>  \n",
       "</tr>\n",
       "<tr>\n",
       "  <th>Intercept</th> <td>    9.2631</td> <td>    0.134</td> <td>   69.029</td> <td> 0.000</td> <td>    9.000</td> <td>    9.526</td>\n",
       "</tr>\n",
       "<tr>\n",
       "  <th>x1</th>        <td>    8.0129</td> <td>    0.029</td> <td>  276.572</td> <td> 0.000</td> <td>    7.956</td> <td>    8.070</td>\n",
       "</tr>\n",
       "<tr>\n",
       "  <th>x2</th>        <td>    1.9549</td> <td>    0.033</td> <td>   58.735</td> <td> 0.000</td> <td>    1.890</td> <td>    2.020</td>\n",
       "</tr>\n",
       "</table>\n",
       "<table class=\"simpletable\">\n",
       "<tr>\n",
       "  <th>Omnibus:</th>       <td> 0.905</td> <th>  Durbin-Watson:     </th> <td>   2.017</td>\n",
       "</tr>\n",
       "<tr>\n",
       "  <th>Prob(Omnibus):</th> <td> 0.636</td> <th>  Jarque-Bera (JB):  </th> <td>   0.780</td>\n",
       "</tr>\n",
       "<tr>\n",
       "  <th>Skew:</th>          <td>-0.011</td> <th>  Prob(JB):          </th> <td>   0.677</td>\n",
       "</tr>\n",
       "<tr>\n",
       "  <th>Kurtosis:</th>      <td> 3.135</td> <th>  Cond. No.          </th> <td>    60.0</td>\n",
       "</tr>\n",
       "</table><br/><br/>Notes:<br/>[1] Standard Errors assume that the covariance matrix of the errors is correctly specified."
      ],
      "text/plain": [
       "<class 'statsmodels.iolib.summary.Summary'>\n",
       "\"\"\"\n",
       "                            OLS Regression Results                            \n",
       "==============================================================================\n",
       "Dep. Variable:                      y   R-squared:                       0.999\n",
       "Model:                            OLS   Adj. R-squared:                  0.999\n",
       "Method:                 Least Squares   F-statistic:                 3.572e+05\n",
       "Date:                Sun, 20 Nov 2022   Prob (F-statistic):               0.00\n",
       "Time:                        14:03:16   Log-Likelihood:                -1452.5\n",
       "No. Observations:                1000   AIC:                             2911.\n",
       "Df Residuals:                     997   BIC:                             2926.\n",
       "Df Model:                           2                                         \n",
       "Covariance Type:            nonrobust                                         \n",
       "==============================================================================\n",
       "                 coef    std err          t      P>|t|      [0.025      0.975]\n",
       "------------------------------------------------------------------------------\n",
       "Intercept      9.2631      0.134     69.029      0.000       9.000       9.526\n",
       "x1             8.0129      0.029    276.572      0.000       7.956       8.070\n",
       "x2             1.9549      0.033     58.735      0.000       1.890       2.020\n",
       "==============================================================================\n",
       "Omnibus:                        0.905   Durbin-Watson:                   2.017\n",
       "Prob(Omnibus):                  0.636   Jarque-Bera (JB):                0.780\n",
       "Skew:                          -0.011   Prob(JB):                        0.677\n",
       "Kurtosis:                       3.135   Cond. No.                         60.0\n",
       "==============================================================================\n",
       "\n",
       "Notes:\n",
       "[1] Standard Errors assume that the covariance matrix of the errors is correctly specified.\n",
       "\"\"\""
      ]
     },
     "execution_count": 86,
     "metadata": {},
     "output_type": "execute_result"
    }
   ],
   "source": [
    "#Estimating parameters of a properly specified sample regression function\n",
    "sample_dfb = population_datab.sample(n= 1000, random_state=int(2052001))\n",
    "mod = smf.ols(formula='y ~ x1+x2', data=sample_dfb)\n",
    "res = mod.fit()\n",
    "\n",
    "res.summary()"
   ]
  },
  {
   "cell_type": "code",
   "execution_count": 88,
   "id": "1c910f39",
   "metadata": {},
   "outputs": [
    {
     "name": "stdout",
     "output_type": "stream",
     "text": [
      "      beta1\n",
      "0  7.502221\n",
      "1  7.936428\n",
      "2  8.392956\n",
      "3  8.548164\n",
      "4  7.954185\n",
      "variance:  beta1    0.118965\n",
      "dtype: float64\n"
     ]
    }
   ],
   "source": [
    "#getting 1000 samples of n=10\n",
    "beta_1 = []\n",
    "\n",
    "for i in range(1000):\n",
    "    sample_df = population_datab.sample(n=10, random_state = i)\n",
    "    reg = smf.ols(formula = 'y~x1 +x2', data = sample_df).fit()\n",
    "    beta_1.append(reg.params[1])\n",
    "reg_b10_df = pd.DataFrame({'beta1':beta_1})\n",
    "print(reg_b10_df.head())\n",
    "\n",
    "#obtaining empirical variance\n",
    "print('variance: ', np.var(reg_b10_df))"
   ]
  },
  {
   "cell_type": "code",
   "execution_count": 89,
   "id": "f03b23c3",
   "metadata": {},
   "outputs": [
    {
     "name": "stdout",
     "output_type": "stream",
     "text": [
      "      beta1\n",
      "0  7.939666\n",
      "1  7.885229\n",
      "2  8.064431\n",
      "3  8.014634\n",
      "4  7.949901\n",
      "variance:  beta1    0.00791\n",
      "dtype: float64\n"
     ]
    }
   ],
   "source": [
    "#getting 1000 samples of n=100\n",
    "beta_1 = []\n",
    "\n",
    "for i in range(1000):\n",
    "    sample_df = population_datab.sample(n=100, random_state = i)\n",
    "    reg = smf.ols(formula = 'y~x1 +x2', data = sample_df).fit()\n",
    "    beta_1.append(reg.params[1])\n",
    "reg_b100_df = pd.DataFrame({'beta1':beta_1})\n",
    "print(reg_b100_df.head())\n",
    "\n",
    "#obtaining empirical variance\n",
    "print('variance: ', np.var(reg_b100_df))"
   ]
  },
  {
   "cell_type": "code",
   "execution_count": 90,
   "id": "c566d282",
   "metadata": {},
   "outputs": [
    {
     "name": "stdout",
     "output_type": "stream",
     "text": [
      "      beta1\n",
      "0  8.052984\n",
      "1  8.017396\n",
      "2  8.032494\n",
      "3  8.016221\n",
      "4  7.984902\n",
      "variance:  beta1    0.000771\n",
      "dtype: float64\n"
     ]
    }
   ],
   "source": [
    "#getting 1000 samples of n=1000\n",
    "beta_1 = []\n",
    "\n",
    "for i in range(1000):\n",
    "    sample_df = population_datab.sample(n=1000, random_state = i)\n",
    "    reg = smf.ols(formula = 'y~x1 +x2', data = sample_df).fit()\n",
    "    beta_1.append(reg.params[1])\n",
    "reg_b1000_df = pd.DataFrame({'beta1':beta_1})\n",
    "print(reg_b1000_df.head())\n",
    "\n",
    "#obtaining empirical variance\n",
    "print('variance: ', np.var(reg_b1000_df))"
   ]
  },
  {
   "cell_type": "code",
   "execution_count": 91,
   "id": "123bfb39",
   "metadata": {},
   "outputs": [
    {
     "name": "stdout",
     "output_type": "stream",
     "text": [
      "      beta1\n",
      "0  8.009409\n",
      "1  8.014641\n",
      "2  7.992661\n",
      "3  7.997098\n",
      "4  8.005200\n",
      "variance:  beta1    0.000076\n",
      "dtype: float64\n"
     ]
    }
   ],
   "source": [
    "#getting 1000 samples of n=10000\n",
    "beta_1 = []\n",
    "\n",
    "for i in range(1000):\n",
    "    sample_df = population_datab.sample(n=10000, random_state = i)\n",
    "    reg = smf.ols(formula = 'y~x1 +x2', data = sample_df).fit()\n",
    "    beta_1.append(reg.params[1])\n",
    "reg_b10000_df = pd.DataFrame({'beta1':beta_1})\n",
    "print(reg_b10000_df.head())\n",
    "\n",
    "#obtaining empirical variance\n",
    "print('variance: ', np.var(reg_b10000_df))"
   ]
  },
  {
   "cell_type": "markdown",
   "id": "4ceb22b9",
   "metadata": {},
   "source": [
    "**Part c**"
   ]
  },
  {
   "cell_type": "code",
   "execution_count": 92,
   "id": "f762c6b5",
   "metadata": {},
   "outputs": [
    {
     "data": {
      "image/png": "[encoded data removed]",
      "text/plain": [
       "<Figure size 432x288 with 1 Axes>"
      ]
     },
     "metadata": {
      "needs_background": "light"
     },
     "output_type": "display_data"
    }
   ],
   "source": [
    "#Creating the histogram, all on one plot\n",
    "fig, ax = plt.subplots()\n",
    "ax.hist(reg_b10_df, bins=20, edgecolor='black', alpha=.3, label = '10 samples')\n",
    "ax.hist(reg_b100_df, bins=20, edgecolor='black', alpha=.4, label = '100 samples')\n",
    "ax.hist(reg_b1000_df, bins=20, edgecolor='black', alpha=.5, label = '1000 samples')\n",
    "ax.hist(reg_b10000_df, bins=20, edgecolor='black', alpha=.8,label = '10000 samples')\n",
    "ax.set_title(\"Histogram of beta samples\")\n",
    "ax.set_xlabel(\"X axis\")\n",
    "ax.set_ylabel(\"Frequencies\")\n",
    "leg = ax.legend();\n",
    "plt.show()"
   ]
  },
  {
   "cell_type": "markdown",
   "id": "9fba01bb",
   "metadata": {},
   "source": [
    "**Part d**"
   ]
  },
  {
   "cell_type": "code",
   "execution_count": 93,
   "id": "9ed3bb24",
   "metadata": {},
   "outputs": [
    {
     "data": {
      "image/png": "[encoded data removed]",
      "text/plain": [
       "<Figure size 432x288 with 1 Axes>"
      ]
     },
     "metadata": {
      "needs_background": "light"
     },
     "output_type": "display_data"
    }
   ],
   "source": [
    "#plot four variances, it is supposed to go down\n",
    "#putting points in list\n",
    "x = [10,100,1000,10000]\n",
    "y = [np.var(reg_b10_df), np.var(reg_b100_df),np.var(reg_b1000_df),np.var(reg_b10000_df)]\n",
    "\n",
    "#christmas GRAPH!\n",
    "plt.plot(x, y, color= 'green', linestyle = '', marker='o', markerfacecolor='red')\n",
    "\n",
    "plt.xlabel('Sample size')\n",
    "\n",
    "plt.ylabel('Empirical Variance')\n",
    "\n",
    "plt.title('Variances of sample betas!')\n",
    "\n",
    "plt.show()"
   ]
  },
  {
   "cell_type": "markdown",
   "id": "d3baf2a6",
   "metadata": {},
   "source": [
    "**Advanced-extra credit (talking about d)**"
   ]
  },
  {
   "cell_type": "code",
   "execution_count": 94,
   "id": "884ed9cd",
   "metadata": {},
   "outputs": [
    {
     "data": {
      "image/png": "[encoded data removed]",
      "text/plain": [
       "<Figure size 432x288 with 1 Axes>"
      ]
     },
     "metadata": {
      "needs_background": "light"
     },
     "output_type": "display_data"
    }
   ],
   "source": [
    "#getting 1000 samples of n=10000\n",
    "#have a curve on variance plot\n",
    "beta_1 = []\n",
    "\n",
    "for i in range(1000):\n",
    "    sample_df = population_datab.sample(n=500, random_state = i)\n",
    "    reg = smf.ols(formula = 'y~x1 +x2', data = sample_df).fit()\n",
    "    beta_1.append(reg.params[1])\n",
    "reg_b500_df = pd.DataFrame({'beta1':beta_1})\n",
    "reg_b500_df.head()\n",
    "\n",
    "for i in range(1000):\n",
    "    sample_df = population_datab.sample(n=1000, random_state = i)\n",
    "    reg = smf.ols(formula = 'y~x1 +x2', data = sample_df).fit()\n",
    "    beta_1.append(reg.params[1])\n",
    "reg_b1000_df = pd.DataFrame({'beta1':beta_1})\n",
    "reg_b1000_df.head()\n",
    "\n",
    "for i in range(1000):\n",
    "    sample_df = population_datab.sample(n=1500, random_state = i)\n",
    "    reg = smf.ols(formula = 'y~x1 +x2', data = sample_df).fit()\n",
    "    beta_1.append(reg.params[1])\n",
    "reg_b1500_df = pd.DataFrame({'beta1':beta_1})\n",
    "reg_b1500_df.head()\n",
    "\n",
    "for i in range(1000):\n",
    "    sample_df = population_datab.sample(n=3500, random_state = i)\n",
    "    reg = smf.ols(formula = 'y~x1 +x2', data = sample_df).fit()\n",
    "    beta_1.append(reg.params[1])\n",
    "reg_b3500_df = pd.DataFrame({'beta1':beta_1})\n",
    "reg_b3500_df.head()\n",
    "\n",
    "\n",
    "x = [500,1000,1500,3500]\n",
    "y = [np.var(reg_b500_df), np.var(reg_b1000_df),np.var(reg_b1500_df),np.var(reg_b3500_df)]\n",
    "\n",
    "#christmas GRAPH!\n",
    "plt.plot(x, y, color= 'green', linestyle = 'dashed', marker='o', markerfacecolor='red')\n",
    "\n",
    "plt.xlabel('Sample size')\n",
    "\n",
    "plt.ylabel('Empirical Variance')\n",
    "\n",
    "plt.title('Variances of sample betas!')\n",
    "\n",
    "plt.show()"
   ]
  },
  {
   "cell_type": "markdown",
   "id": "514f555b",
   "metadata": {},
   "source": [
    "Note: If I made highest sample a higher number like 10,000 instead of 3,500 the curve of this graph will be very similar to that of in c, but my computer is really slow at drawing from higher samples so I left it at 3500"
   ]
  },
  {
   "cell_type": "code",
   "execution_count": null,
   "id": "d1adb714",
   "metadata": {},
   "outputs": [],
   "source": []
  }
 ],
 "metadata": {
  "kernelspec": {
   "display_name": "Python 3 (ipykernel)",
   "language": "python",
   "name": "python3"
  },
  "language_info": {
   "codemirror_mode": {
    "name": "ipython",
    "version": 3
   },
   "file_extension": ".py",
   "mimetype": "text/x-python",
   "name": "python",
   "nbconvert_exporter": "python",
   "pygments_lexer": "ipython3",
   "version": "3.9.12"
  }
 },
 "nbformat": 4,
 "nbformat_minor": 5
}
